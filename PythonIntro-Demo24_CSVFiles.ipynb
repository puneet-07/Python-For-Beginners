{
 "cells": [
  {
   "cell_type": "markdown",
   "metadata": {},
   "source": [
    "#### Using the built-in csv module"
   ]
  },
  {
   "cell_type": "code",
   "execution_count": 14,
   "metadata": {},
   "outputs": [
    {
     "name": "stdout",
     "output_type": "stream",
     "text": [
      "Kishore, 33, 44, 66\r\n",
      "Ajit, 65, 23, 89\r\n",
      "Virat, 55, 67, 99\r\n",
      "Sachin, 44, 66, 78"
     ]
    }
   ],
   "source": [
    "!cat data/students.csv"
   ]
  },
  {
   "cell_type": "code",
   "execution_count": 1,
   "metadata": {
    "collapsed": true
   },
   "outputs": [],
   "source": [
    "import csv"
   ]
  },
  {
   "cell_type": "code",
   "execution_count": 6,
   "metadata": {},
   "outputs": [
    {
     "name": "stdout",
     "output_type": "stream",
     "text": [
      "['Kishore', ' 33', ' 44', ' 66']\n",
      "['Ajit', ' 65', ' 23', ' 89']\n",
      "['Virat', ' 55', ' 67', ' 99']\n",
      "['Sachin', ' 44', ' 66', ' 78']\n",
      "\n",
      "Total number of rows:  4\n"
     ]
    }
   ],
   "source": [
    "with open('data/students.csv', 'r') as csv_file:\n",
    "    \n",
    "    csv_reader = csv.reader(csv_file)\n",
    "    \n",
    "    rows = []\n",
    "    for row in csv_reader:\n",
    "        print(row)\n",
    "        \n",
    "        rows.append(row)\n",
    "    \n",
    "    print(\"\\nTotal number of rows: \", csv_reader.line_num)"
   ]
  },
  {
   "cell_type": "code",
   "execution_count": 7,
   "metadata": {},
   "outputs": [
    {
     "data": {
      "text/plain": [
       "[['Kishore', ' 33', ' 44', ' 66'],\n",
       " ['Ajit', ' 65', ' 23', ' 89'],\n",
       " ['Virat', ' 55', ' 67', ' 99'],\n",
       " ['Sachin', ' 44', ' 66', ' 78']]"
      ]
     },
     "execution_count": 7,
     "metadata": {},
     "output_type": "execute_result"
    }
   ],
   "source": [
    "rows"
   ]
  },
  {
   "cell_type": "code",
   "execution_count": 12,
   "metadata": {},
   "outputs": [
    {
     "name": "stdout",
     "output_type": "stream",
     "text": [
      "Kishore  33  44  66 \n",
      "Ajit  65  23  89 \n",
      "Virat  55  67  99 \n",
      "Sachin  44  66  78 \n"
     ]
    }
   ],
   "source": [
    "for row in rows:\n",
    "    for col in row:\n",
    "        print(col, end = ' ')\n",
    "    print()    "
   ]
  },
  {
   "cell_type": "markdown",
   "metadata": {},
   "source": [
    "#### CSV file structure but with a different delimiter"
   ]
  },
  {
   "cell_type": "code",
   "execution_count": 17,
   "metadata": {},
   "outputs": [
    {
     "name": "stdout",
     "output_type": "stream",
     "text": [
      "Kishore 33 44 66\r\n",
      "Ajit 65 23 89\r\n",
      "Virat 55 67 99\r\n",
      "Sachin 44 66 78"
     ]
    }
   ],
   "source": [
    "!cat data/students_delimiterspace.txt"
   ]
  },
  {
   "cell_type": "code",
   "execution_count": 18,
   "metadata": {},
   "outputs": [
    {
     "name": "stdout",
     "output_type": "stream",
     "text": [
      "['Kishore', '33', '44', '66']\n",
      "['Ajit', '65', '23', '89']\n",
      "['Virat', '55', '67', '99']\n",
      "['Sachin', '44', '66', '78']\n",
      "\n",
      "Total number of rows:  4\n"
     ]
    }
   ],
   "source": [
    "with open('data/students_delimiterspace.txt', 'r') as csv_file:\n",
    "    \n",
    "    csv_reader = csv.reader(csv_file, delimiter=' ')\n",
    "    \n",
    "    rows = []\n",
    "    for row in csv_reader:\n",
    "        print(row)\n",
    "        \n",
    "        rows.append(row)\n",
    "    \n",
    "    print(\"\\nTotal number of rows: \", csv_reader.line_num)"
   ]
  },
  {
   "cell_type": "code",
   "execution_count": null,
   "metadata": {
    "collapsed": true
   },
   "outputs": [],
   "source": []
  },
  {
   "cell_type": "code",
   "execution_count": null,
   "metadata": {
    "collapsed": true
   },
   "outputs": [],
   "source": []
  },
  {
   "cell_type": "code",
   "execution_count": null,
   "metadata": {
    "collapsed": true
   },
   "outputs": [],
   "source": []
  },
  {
   "cell_type": "code",
   "execution_count": null,
   "metadata": {
    "collapsed": true
   },
   "outputs": [],
   "source": []
  },
  {
   "cell_type": "code",
   "execution_count": null,
   "metadata": {
    "collapsed": true
   },
   "outputs": [],
   "source": []
  },
  {
   "cell_type": "code",
   "execution_count": null,
   "metadata": {
    "collapsed": true
   },
   "outputs": [],
   "source": []
  }
 ],
 "metadata": {
  "kernelspec": {
   "display_name": "Python 3",
   "language": "python",
   "name": "python3"
  },
  "language_info": {
   "codemirror_mode": {
    "name": "ipython",
    "version": 3
   },
   "file_extension": ".py",
   "mimetype": "text/x-python",
   "name": "python",
   "nbconvert_exporter": "python",
   "pygments_lexer": "ipython3",
   "version": "3.6.4"
  }
 },
 "nbformat": 4,
 "nbformat_minor": 2
}
