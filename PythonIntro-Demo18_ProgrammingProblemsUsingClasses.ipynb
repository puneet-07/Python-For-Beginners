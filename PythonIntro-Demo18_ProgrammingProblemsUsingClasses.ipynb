{
 "cells": [
  {
   "cell_type": "code",
   "execution_count": 5,
   "metadata": {},
   "outputs": [],
   "source": [
    "# Create a class for a student which contains their name, overall score, the clubs they belong to\n",
    "# and whether the student is an honors student or not. Write a method to update the values of all\n",
    "# variables\n",
    "\n",
    "class Student:\n",
    "    \n",
    "    def __init__(self, name, overall_score):\n",
    "        self.__name = name\n",
    "        self.__overall_score = overall_score\n",
    "        self.__clubs = set()\n",
    "        self.__is_honors_student = False\n",
    "        \n",
    "    def change_name(self, name):\n",
    "        self.__name = name\n",
    "        \n",
    "    def change_score(self, overall_score):\n",
    "        self.__overall_score = overall_score\n",
    "        \n",
    "    def add_club(self, club):\n",
    "        self.__clubs.add(club)\n",
    "    \n",
    "    def change_is_honors_student(self, is_honors_student):\n",
    "        self.__is_honors_student = is_honors_student\n",
    "        \n",
    "    def print_all(self):\n",
    "        print(self.__name, self.__overall_score, self.__clubs, self.__is_honors_student)"
   ]
  },
  {
   "cell_type": "code",
   "execution_count": 6,
   "metadata": {},
   "outputs": [],
   "source": [
    "s = Student('Jai', 87)"
   ]
  },
  {
   "cell_type": "code",
   "execution_count": 7,
   "metadata": {},
   "outputs": [],
   "source": [
    "s.add_club('Yoga')"
   ]
  },
  {
   "cell_type": "code",
   "execution_count": 8,
   "metadata": {},
   "outputs": [
    {
     "name": "stdout",
     "output_type": "stream",
     "text": [
      "Jai 87 {'Yoga'} False\n"
     ]
    }
   ],
   "source": [
    "s.print_all()"
   ]
  },
  {
   "cell_type": "code",
   "execution_count": 9,
   "metadata": {},
   "outputs": [],
   "source": [
    "s.add_club('yoga')"
   ]
  },
  {
   "cell_type": "code",
   "execution_count": 10,
   "metadata": {},
   "outputs": [
    {
     "name": "stdout",
     "output_type": "stream",
     "text": [
      "Jai 87 {'Yoga', 'yoga'} False\n"
     ]
    }
   ],
   "source": [
    "s.print_all()"
   ]
  },
  {
   "cell_type": "code",
   "execution_count": 11,
   "metadata": {},
   "outputs": [],
   "source": [
    "s.add_club('yoga')"
   ]
  },
  {
   "cell_type": "code",
   "execution_count": 12,
   "metadata": {},
   "outputs": [
    {
     "name": "stdout",
     "output_type": "stream",
     "text": [
      "Jai 87 {'Yoga', 'yoga'} False\n"
     ]
    }
   ],
   "source": [
    "s.print_all()"
   ]
  },
  {
   "cell_type": "code",
   "execution_count": 14,
   "metadata": {},
   "outputs": [],
   "source": [
    "# You have student details in a dictionary format i.e a list of dictionaries. Write a method to convert these \n",
    "# to instances of the student class. Return a list of instances from a function\n",
    "\n",
    "student_details_list = [\n",
    "    {'name': 'Sima', 'overall_score': 89, 'clubs': ['yoga', 'chess']},\n",
    "    {'name': 'Chandni', 'overall_score': 44, 'clubs': ['yoga'], 'is_honors_student': True},\n",
    "    {'name': 'Harish', 'overall_score': 56, 'clubs': ['baddy', 'chess']},\n",
    "    {'name': 'Ajay', 'overall_score': 99, 'is_honors_student': True}\n",
    "]"
   ]
  },
  {
   "cell_type": "code",
   "execution_count": 15,
   "metadata": {},
   "outputs": [],
   "source": [
    "def get_students(student_details_list):\n",
    "    students_list = []\n",
    "\n",
    "    for student_details in student_details_list:\n",
    "        \n",
    "        if 'name' not in student_details or 'overall_score' not in student_details:\n",
    "            continue\n",
    "            \n",
    "        s = Student(student_details['name'], student_details['overall_score'])\n",
    "        \n",
    "        if 'clubs' in student_details:\n",
    "            for club in student_details['clubs']:\n",
    "                s.add_club(club)\n",
    "\n",
    "        if 'is_honors_student' in student_details:\n",
    "            s.change_is_honors_student(student_details['is_honors_student'])\n",
    "    \n",
    "        students_list.append(s)\n",
    "        \n",
    "    return students_list    "
   ]
  },
  {
   "cell_type": "code",
   "execution_count": 16,
   "metadata": {},
   "outputs": [],
   "source": [
    "students = get_students(student_details_list)"
   ]
  },
  {
   "cell_type": "code",
   "execution_count": 17,
   "metadata": {},
   "outputs": [
    {
     "data": {
      "text/plain": [
       "[<__main__.Student at 0x105f5d470>,\n",
       " <__main__.Student at 0x105f5d4a8>,\n",
       " <__main__.Student at 0x105f5d4e0>,\n",
       " <__main__.Student at 0x105f5d518>]"
      ]
     },
     "execution_count": 17,
     "metadata": {},
     "output_type": "execute_result"
    }
   ],
   "source": [
    "students"
   ]
  },
  {
   "cell_type": "code",
   "execution_count": 18,
   "metadata": {},
   "outputs": [
    {
     "name": "stdout",
     "output_type": "stream",
     "text": [
      "Sima 89 {'chess', 'yoga'} False\n",
      "Chandni 44 {'yoga'} True\n",
      "Harish 56 {'chess', 'baddy'} False\n",
      "Ajay 99 set() True\n"
     ]
    }
   ],
   "source": [
    "for student in students:\n",
    "    student.print_all()"
   ]
  },
  {
   "cell_type": "code",
   "execution_count": 22,
   "metadata": {},
   "outputs": [],
   "source": [
    "# Set up a Circle class which takes in a radius and has methods which calculate the area and perimeter\n",
    "# for the circle\n",
    "\n",
    "import math\n",
    "\n",
    "class Circle:\n",
    "    \n",
    "    def __init__(self, radius):\n",
    "        self.__radius = radius\n",
    "    \n",
    "    def get_area(self):\n",
    "        return math.pi * self.__radius * self.__radius\n",
    "    \n",
    "    def get_perimeter(self):\n",
    "        return 2 * math.pi * self.__radius\n",
    "        "
   ]
  },
  {
   "cell_type": "code",
   "execution_count": 23,
   "metadata": {},
   "outputs": [],
   "source": [
    "c = Circle(12)"
   ]
  },
  {
   "cell_type": "code",
   "execution_count": 24,
   "metadata": {},
   "outputs": [
    {
     "data": {
      "text/plain": [
       "(452.3893421169302, 75.39822368615503)"
      ]
     },
     "execution_count": 24,
     "metadata": {},
     "output_type": "execute_result"
    }
   ],
   "source": [
    "c.get_area(), c.get_perimeter()"
   ]
  },
  {
   "cell_type": "code",
   "execution_count": null,
   "metadata": {},
   "outputs": [],
   "source": []
  },
  {
   "cell_type": "code",
   "execution_count": null,
   "metadata": {},
   "outputs": [],
   "source": []
  },
  {
   "cell_type": "code",
   "execution_count": null,
   "metadata": {},
   "outputs": [],
   "source": []
  },
  {
   "cell_type": "code",
   "execution_count": null,
   "metadata": {},
   "outputs": [],
   "source": []
  },
  {
   "cell_type": "code",
   "execution_count": null,
   "metadata": {},
   "outputs": [],
   "source": []
  },
  {
   "cell_type": "code",
   "execution_count": null,
   "metadata": {},
   "outputs": [],
   "source": []
  },
  {
   "cell_type": "code",
   "execution_count": null,
   "metadata": {},
   "outputs": [],
   "source": []
  }
 ],
 "metadata": {
  "kernelspec": {
   "display_name": "Python 3",
   "language": "python",
   "name": "python3"
  },
  "language_info": {
   "codemirror_mode": {
    "name": "ipython",
    "version": 3
   },
   "file_extension": ".py",
   "mimetype": "text/x-python",
   "name": "python",
   "nbconvert_exporter": "python",
   "pygments_lexer": "ipython3",
   "version": "3.8.8"
  }
 },
 "nbformat": 4,
 "nbformat_minor": 2
}
