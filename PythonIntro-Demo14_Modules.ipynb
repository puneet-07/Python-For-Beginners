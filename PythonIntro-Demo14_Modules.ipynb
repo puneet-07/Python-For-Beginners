{
 "cells": [
  {
   "cell_type": "code",
   "execution_count": 1,
   "metadata": {},
   "outputs": [],
   "source": [
    "import math"
   ]
  },
  {
   "cell_type": "code",
   "execution_count": 2,
   "metadata": {},
   "outputs": [
    {
     "data": {
      "text/plain": [
       "4"
      ]
     },
     "execution_count": 2,
     "metadata": {},
     "output_type": "execute_result"
    }
   ],
   "source": [
    "math.ceil(3.4)"
   ]
  },
  {
   "cell_type": "code",
   "execution_count": 3,
   "metadata": {},
   "outputs": [
    {
     "data": {
      "text/plain": [
       "720"
      ]
     },
     "execution_count": 3,
     "metadata": {},
     "output_type": "execute_result"
    }
   ],
   "source": [
    "math.factorial(6)"
   ]
  },
  {
   "cell_type": "code",
   "execution_count": 4,
   "metadata": {},
   "outputs": [
    {
     "data": {
      "text/plain": [
       "5"
      ]
     },
     "execution_count": 4,
     "metadata": {},
     "output_type": "execute_result"
    }
   ],
   "source": [
    "math.gcd(40, 15)"
   ]
  },
  {
   "cell_type": "code",
   "execution_count": 5,
   "metadata": {},
   "outputs": [
    {
     "data": {
      "text/plain": [
       "32.0"
      ]
     },
     "execution_count": 5,
     "metadata": {},
     "output_type": "execute_result"
    }
   ],
   "source": [
    "math.pow(2, 5)"
   ]
  },
  {
   "cell_type": "code",
   "execution_count": 8,
   "metadata": {},
   "outputs": [
    {
     "data": {
      "text/plain": [
       "3.141592653589793"
      ]
     },
     "execution_count": 8,
     "metadata": {},
     "output_type": "execute_result"
    }
   ],
   "source": [
    "math.pi"
   ]
  },
  {
   "cell_type": "code",
   "execution_count": 9,
   "metadata": {},
   "outputs": [
    {
     "data": {
      "text/plain": [
       "2.718281828459045"
      ]
     },
     "execution_count": 9,
     "metadata": {},
     "output_type": "execute_result"
    }
   ],
   "source": [
    "math.e"
   ]
  },
  {
   "cell_type": "code",
   "execution_count": 10,
   "metadata": {},
   "outputs": [
    {
     "data": {
      "text/plain": [
       "nan"
      ]
     },
     "execution_count": 10,
     "metadata": {},
     "output_type": "execute_result"
    }
   ],
   "source": [
    "math.nan"
   ]
  },
  {
   "cell_type": "code",
   "execution_count": 11,
   "metadata": {},
   "outputs": [
    {
     "data": {
      "text/plain": [
       "False"
      ]
     },
     "execution_count": 11,
     "metadata": {},
     "output_type": "execute_result"
    }
   ],
   "source": [
    "math.isnan(4)"
   ]
  },
  {
   "cell_type": "code",
   "execution_count": 16,
   "metadata": {},
   "outputs": [],
   "source": [
    "import random"
   ]
  },
  {
   "cell_type": "code",
   "execution_count": 22,
   "metadata": {},
   "outputs": [
    {
     "data": {
      "text/plain": [
       "'h'"
      ]
     },
     "execution_count": 22,
     "metadata": {},
     "output_type": "execute_result"
    }
   ],
   "source": [
    "# Shift-enter on this cell multiple times\n",
    "choice = random.choice(['a', 'b', '3', 'g', 'h'])\n",
    "\n",
    "choice"
   ]
  },
  {
   "cell_type": "code",
   "execution_count": 25,
   "metadata": {},
   "outputs": [
    {
     "data": {
      "text/plain": [
       "['g', '3', 'a', 'h', 'b']"
      ]
     },
     "execution_count": 25,
     "metadata": {},
     "output_type": "execute_result"
    }
   ],
   "source": [
    "some_list = ['a', 'b', '3', 'g', 'h']\n",
    "\n",
    "random.shuffle(some_list)\n",
    "\n",
    "some_list"
   ]
  },
  {
   "cell_type": "code",
   "execution_count": 27,
   "metadata": {},
   "outputs": [],
   "source": [
    "import os"
   ]
  },
  {
   "cell_type": "code",
   "execution_count": 29,
   "metadata": {},
   "outputs": [
    {
     "data": {
      "text/plain": [
       "'/Users/jananiravi/babyreddy/basic_python'"
      ]
     },
     "execution_count": 29,
     "metadata": {},
     "output_type": "execute_result"
    }
   ],
   "source": [
    "os.getcwd()"
   ]
  },
  {
   "cell_type": "code",
   "execution_count": 30,
   "metadata": {},
   "outputs": [
    {
     "data": {
      "text/plain": [
       "posix.uname_result(sysname='Darwin', nodename='Jananis-MacBook-Pro.local', release='15.6.0', version='Darwin Kernel Version 15.6.0: Wed Nov  2 20:30:56 PDT 2016; root:xnu-3248.60.11.1.2~2/RELEASE_X86_64', machine='x86_64')"
      ]
     },
     "execution_count": 30,
     "metadata": {},
     "output_type": "execute_result"
    }
   ],
   "source": [
    "os.uname()"
   ]
  },
  {
   "cell_type": "code",
   "execution_count": 31,
   "metadata": {},
   "outputs": [
    {
     "data": {
      "text/plain": [
       "['.DS_Store',\n",
       " '.ipynb_checkpoints',\n",
       " 'kishan',\n",
       " 'PythonIntro-Demo10_ForLoops.ipynb',\n",
       " 'PythonIntro-Demo11_WhileLoops.ipynb',\n",
       " 'PythonIntro-Demo12_ProgrammingProblems.ipynb',\n",
       " 'PythonIntro-Demo13_MoreProgrammingProblems.ipynb',\n",
       " 'PythonIntro-Demo14_Modules.ipynb',\n",
       " 'PythonIntro-Demo1_Calculator.ipynb',\n",
       " 'PythonIntro-Demo2_HelloWorldAndBuiltInFunctions.ipynb',\n",
       " 'PythonIntro-Demo3_Variables.ipynb',\n",
       " 'PythonIntro-Demo4_Lists.ipynb',\n",
       " 'PythonIntro-Demo5_StringsAsLists.ipynb',\n",
       " 'PythonIntro-Demo6_Tuples.ipynb',\n",
       " 'PythonIntro-Demo7_Dictionaries.ipynb',\n",
       " 'PythonIntro-Demo8_IfElse.ipynb',\n",
       " 'PythonIntro-Demo9_Conversions.ipynb',\n",
       " 'Untitled.ipynb']"
      ]
     },
     "execution_count": 31,
     "metadata": {},
     "output_type": "execute_result"
    }
   ],
   "source": [
    "os.listdir('.')"
   ]
  },
  {
   "cell_type": "code",
   "execution_count": 32,
   "metadata": {},
   "outputs": [],
   "source": [
    "os.mkdir('./new_dir')"
   ]
  },
  {
   "cell_type": "code",
   "execution_count": 33,
   "metadata": {},
   "outputs": [
    {
     "data": {
      "text/plain": [
       "['.DS_Store',\n",
       " '.ipynb_checkpoints',\n",
       " 'kishan',\n",
       " 'new_dir',\n",
       " 'PythonIntro-Demo10_ForLoops.ipynb',\n",
       " 'PythonIntro-Demo11_WhileLoops.ipynb',\n",
       " 'PythonIntro-Demo12_ProgrammingProblems.ipynb',\n",
       " 'PythonIntro-Demo13_MoreProgrammingProblems.ipynb',\n",
       " 'PythonIntro-Demo14_Modules.ipynb',\n",
       " 'PythonIntro-Demo1_Calculator.ipynb',\n",
       " 'PythonIntro-Demo2_HelloWorldAndBuiltInFunctions.ipynb',\n",
       " 'PythonIntro-Demo3_Variables.ipynb',\n",
       " 'PythonIntro-Demo4_Lists.ipynb',\n",
       " 'PythonIntro-Demo5_StringsAsLists.ipynb',\n",
       " 'PythonIntro-Demo6_Tuples.ipynb',\n",
       " 'PythonIntro-Demo7_Dictionaries.ipynb',\n",
       " 'PythonIntro-Demo8_IfElse.ipynb',\n",
       " 'PythonIntro-Demo9_Conversions.ipynb',\n",
       " 'Untitled.ipynb']"
      ]
     },
     "execution_count": 33,
     "metadata": {},
     "output_type": "execute_result"
    }
   ],
   "source": [
    "os.listdir('.')"
   ]
  },
  {
   "cell_type": "code",
   "execution_count": 34,
   "metadata": {},
   "outputs": [],
   "source": [
    "os.rename('new_dir', 'old_dir')"
   ]
  },
  {
   "cell_type": "code",
   "execution_count": 35,
   "metadata": {},
   "outputs": [
    {
     "data": {
      "text/plain": [
       "['.DS_Store',\n",
       " '.ipynb_checkpoints',\n",
       " 'kishan',\n",
       " 'old_dir',\n",
       " 'PythonIntro-Demo10_ForLoops.ipynb',\n",
       " 'PythonIntro-Demo11_WhileLoops.ipynb',\n",
       " 'PythonIntro-Demo12_ProgrammingProblems.ipynb',\n",
       " 'PythonIntro-Demo13_MoreProgrammingProblems.ipynb',\n",
       " 'PythonIntro-Demo14_Modules.ipynb',\n",
       " 'PythonIntro-Demo1_Calculator.ipynb',\n",
       " 'PythonIntro-Demo2_HelloWorldAndBuiltInFunctions.ipynb',\n",
       " 'PythonIntro-Demo3_Variables.ipynb',\n",
       " 'PythonIntro-Demo4_Lists.ipynb',\n",
       " 'PythonIntro-Demo5_StringsAsLists.ipynb',\n",
       " 'PythonIntro-Demo6_Tuples.ipynb',\n",
       " 'PythonIntro-Demo7_Dictionaries.ipynb',\n",
       " 'PythonIntro-Demo8_IfElse.ipynb',\n",
       " 'PythonIntro-Demo9_Conversions.ipynb',\n",
       " 'Untitled.ipynb']"
      ]
     },
     "execution_count": 35,
     "metadata": {},
     "output_type": "execute_result"
    }
   ],
   "source": [
    "os.listdir('.')"
   ]
  },
  {
   "cell_type": "code",
   "execution_count": 36,
   "metadata": {},
   "outputs": [],
   "source": [
    "os.rmdir('old_dir')"
   ]
  },
  {
   "cell_type": "code",
   "execution_count": 37,
   "metadata": {},
   "outputs": [
    {
     "data": {
      "text/plain": [
       "['.DS_Store',\n",
       " '.ipynb_checkpoints',\n",
       " 'kishan',\n",
       " 'PythonIntro-Demo10_ForLoops.ipynb',\n",
       " 'PythonIntro-Demo11_WhileLoops.ipynb',\n",
       " 'PythonIntro-Demo12_ProgrammingProblems.ipynb',\n",
       " 'PythonIntro-Demo13_MoreProgrammingProblems.ipynb',\n",
       " 'PythonIntro-Demo14_Modules.ipynb',\n",
       " 'PythonIntro-Demo1_Calculator.ipynb',\n",
       " 'PythonIntro-Demo2_HelloWorldAndBuiltInFunctions.ipynb',\n",
       " 'PythonIntro-Demo3_Variables.ipynb',\n",
       " 'PythonIntro-Demo4_Lists.ipynb',\n",
       " 'PythonIntro-Demo5_StringsAsLists.ipynb',\n",
       " 'PythonIntro-Demo6_Tuples.ipynb',\n",
       " 'PythonIntro-Demo7_Dictionaries.ipynb',\n",
       " 'PythonIntro-Demo8_IfElse.ipynb',\n",
       " 'PythonIntro-Demo9_Conversions.ipynb',\n",
       " 'Untitled.ipynb']"
      ]
     },
     "execution_count": 37,
     "metadata": {},
     "output_type": "execute_result"
    }
   ],
   "source": [
    "os.listdir('.')"
   ]
  },
  {
   "cell_type": "code",
   "execution_count": 38,
   "metadata": {},
   "outputs": [
    {
     "data": {
      "text/plain": [
       "'posix'"
      ]
     },
     "execution_count": 38,
     "metadata": {},
     "output_type": "execute_result"
    }
   ],
   "source": [
    "os.name"
   ]
  },
  {
   "cell_type": "code",
   "execution_count": 39,
   "metadata": {},
   "outputs": [
    {
     "data": {
      "text/plain": [
       "True"
      ]
     },
     "execution_count": 39,
     "metadata": {},
     "output_type": "execute_result"
    }
   ],
   "source": [
    "os.path.exists('/tmp')"
   ]
  },
  {
   "cell_type": "code",
   "execution_count": 41,
   "metadata": {},
   "outputs": [
    {
     "data": {
      "text/plain": [
       "True"
      ]
     },
     "execution_count": 41,
     "metadata": {},
     "output_type": "execute_result"
    }
   ],
   "source": [
    "os.path.exists('/usr/local/bin')"
   ]
  },
  {
   "cell_type": "code",
   "execution_count": 42,
   "metadata": {},
   "outputs": [],
   "source": [
    "from os import path"
   ]
  },
  {
   "cell_type": "code",
   "execution_count": 43,
   "metadata": {},
   "outputs": [
    {
     "data": {
      "text/plain": [
       "'/Users/jananiravi/babyreddy/basic_python'"
      ]
     },
     "execution_count": 43,
     "metadata": {},
     "output_type": "execute_result"
    }
   ],
   "source": [
    "path.abspath('.')"
   ]
  },
  {
   "cell_type": "code",
   "execution_count": 44,
   "metadata": {},
   "outputs": [
    {
     "data": {
      "text/plain": [
       "False"
      ]
     },
     "execution_count": 44,
     "metadata": {},
     "output_type": "execute_result"
    }
   ],
   "source": [
    "path.isfile('.')"
   ]
  },
  {
   "cell_type": "code",
   "execution_count": 45,
   "metadata": {},
   "outputs": [
    {
     "data": {
      "text/plain": [
       "['.DS_Store',\n",
       " '.ipynb_checkpoints',\n",
       " 'kishan',\n",
       " 'PythonIntro-Demo10_ForLoops.ipynb',\n",
       " 'PythonIntro-Demo11_WhileLoops.ipynb',\n",
       " 'PythonIntro-Demo12_ProgrammingProblems.ipynb',\n",
       " 'PythonIntro-Demo13_MoreProgrammingProblems.ipynb',\n",
       " 'PythonIntro-Demo14_Modules.ipynb',\n",
       " 'PythonIntro-Demo1_Calculator.ipynb',\n",
       " 'PythonIntro-Demo2_HelloWorldAndBuiltInFunctions.ipynb',\n",
       " 'PythonIntro-Demo3_Variables.ipynb',\n",
       " 'PythonIntro-Demo4_Lists.ipynb',\n",
       " 'PythonIntro-Demo5_StringsAsLists.ipynb',\n",
       " 'PythonIntro-Demo6_Tuples.ipynb',\n",
       " 'PythonIntro-Demo7_Dictionaries.ipynb',\n",
       " 'PythonIntro-Demo8_IfElse.ipynb',\n",
       " 'PythonIntro-Demo9_Conversions.ipynb',\n",
       " 'Untitled.ipynb']"
      ]
     },
     "execution_count": 45,
     "metadata": {},
     "output_type": "execute_result"
    }
   ],
   "source": [
    "os.listdir('.')"
   ]
  },
  {
   "cell_type": "code",
   "execution_count": 46,
   "metadata": {},
   "outputs": [
    {
     "data": {
      "text/plain": [
       "True"
      ]
     },
     "execution_count": 46,
     "metadata": {},
     "output_type": "execute_result"
    }
   ],
   "source": [
    "path.isfile('PythonIntro-Demo1_Calculator.ipynb')"
   ]
  },
  {
   "cell_type": "code",
   "execution_count": null,
   "metadata": {},
   "outputs": [],
   "source": []
  }
 ],
 "metadata": {
  "kernelspec": {
   "display_name": "Python 3",
   "language": "python",
   "name": "python3"
  },
  "language_info": {
   "codemirror_mode": {
    "name": "ipython",
    "version": 3
   },
   "file_extension": ".py",
   "mimetype": "text/x-python",
   "name": "python",
   "nbconvert_exporter": "python",
   "pygments_lexer": "ipython3",
   "version": "3.8.8"
  }
 },
 "nbformat": 4,
 "nbformat_minor": 2
}
