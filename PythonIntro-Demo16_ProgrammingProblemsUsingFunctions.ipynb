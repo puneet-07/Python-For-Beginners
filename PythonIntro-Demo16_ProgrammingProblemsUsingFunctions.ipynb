{
 "cells": [
  {
   "cell_type": "code",
   "execution_count": 2,
   "metadata": {},
   "outputs": [],
   "source": [
    "# Write a program to calculate the area of any circle. Pass in the radius as an input argument.\n",
    "\n",
    "import math\n",
    "\n",
    "def area(radius):\n",
    "    \n",
    "    return math.pi * radius * radius"
   ]
  },
  {
   "cell_type": "code",
   "execution_count": 3,
   "metadata": {},
   "outputs": [
    {
     "data": {
      "text/plain": [
       "314.1592653589793"
      ]
     },
     "execution_count": 3,
     "metadata": {},
     "output_type": "execute_result"
    }
   ],
   "source": [
    "area(10)"
   ]
  },
  {
   "cell_type": "code",
   "execution_count": 4,
   "metadata": {},
   "outputs": [
    {
     "data": {
      "text/plain": [
       "1734.9445429449634"
      ]
     },
     "execution_count": 4,
     "metadata": {},
     "output_type": "execute_result"
    }
   ],
   "source": [
    "area(23.5)"
   ]
  },
  {
   "cell_type": "code",
   "execution_count": 6,
   "metadata": {},
   "outputs": [],
   "source": [
    "# Define a function which takes in a number as an input argument and returns a list which contains the\n",
    "# squares of all numbers starting from 1 to that number (included)\n",
    "\n",
    "def list_of_squares(num):\n",
    "    \n",
    "    squares_list = []\n",
    "\n",
    "    for i in range(num + 1):\n",
    "        \n",
    "        squares_list.append(math.pow(i, 2))\n",
    "        \n",
    "    print(squares_list)    "
   ]
  },
  {
   "cell_type": "code",
   "execution_count": 7,
   "metadata": {},
   "outputs": [
    {
     "name": "stdout",
     "output_type": "stream",
     "text": [
      "[0.0, 1.0, 4.0, 9.0, 16.0, 25.0]\n"
     ]
    }
   ],
   "source": [
    "list_of_squares(5)"
   ]
  },
  {
   "cell_type": "code",
   "execution_count": 8,
   "metadata": {},
   "outputs": [],
   "source": [
    "# Write a filter function which creates a new list with only the numbers from the original list which are\n",
    "# divisible by 5 but not divisible by 3\n",
    "\n",
    "\n",
    "def filter_fn(num_list):\n",
    "    \n",
    "    filtered_list = []\n",
    "    \n",
    "    for num in num_list:\n",
    "        \n",
    "        if num % 5 == 0 and num % 3 != 0:\n",
    "            \n",
    "            filtered_list.append(num)\n",
    "            \n",
    "    return filtered_list"
   ]
  },
  {
   "cell_type": "code",
   "execution_count": 9,
   "metadata": {},
   "outputs": [
    {
     "data": {
      "text/plain": [
       "[5, 10, 35]"
      ]
     },
     "execution_count": 9,
     "metadata": {},
     "output_type": "execute_result"
    }
   ],
   "source": [
    "filter_fn([2, 3, 5, 10, 15, 30, 35, 37])"
   ]
  },
  {
   "cell_type": "code",
   "execution_count": 20,
   "metadata": {},
   "outputs": [],
   "source": [
    "# Write a function to take a number as an input and print that number of Fibonacci numbers 1, 1, 2, 3, 5, 8, 13 ....\n",
    "\n",
    "def fib(num):\n",
    "\n",
    "    num_1 = 1\n",
    "    num_2 = 1\n",
    "    \n",
    "    while num > 0:\n",
    "        \n",
    "        print(num_1)\n",
    "        num = num - 1\n",
    "        \n",
    "        if num == 0:\n",
    "            break\n",
    "\n",
    "        print(num_2)\n",
    "        num = num - 1\n",
    "        \n",
    "        num_1 = num_1 + num_2\n",
    "        \n",
    "        num_2 = num_1 + num_2\n",
    "        \n"
   ]
  },
  {
   "cell_type": "code",
   "execution_count": 21,
   "metadata": {},
   "outputs": [
    {
     "name": "stdout",
     "output_type": "stream",
     "text": [
      "1\n"
     ]
    }
   ],
   "source": [
    "fib(1)"
   ]
  },
  {
   "cell_type": "code",
   "execution_count": 22,
   "metadata": {},
   "outputs": [
    {
     "name": "stdout",
     "output_type": "stream",
     "text": [
      "1\n",
      "1\n"
     ]
    }
   ],
   "source": [
    "fib(2)"
   ]
  },
  {
   "cell_type": "code",
   "execution_count": 23,
   "metadata": {},
   "outputs": [
    {
     "name": "stdout",
     "output_type": "stream",
     "text": [
      "1\n",
      "1\n",
      "2\n"
     ]
    }
   ],
   "source": [
    "fib(3)"
   ]
  },
  {
   "cell_type": "code",
   "execution_count": 24,
   "metadata": {},
   "outputs": [
    {
     "name": "stdout",
     "output_type": "stream",
     "text": [
      "1\n",
      "1\n",
      "2\n",
      "3\n"
     ]
    }
   ],
   "source": [
    "fib(4)"
   ]
  },
  {
   "cell_type": "code",
   "execution_count": 26,
   "metadata": {},
   "outputs": [
    {
     "name": "stdout",
     "output_type": "stream",
     "text": [
      "1\n",
      "1\n",
      "2\n",
      "3\n",
      "5\n",
      "8\n",
      "13\n",
      "21\n"
     ]
    }
   ],
   "source": [
    "fib(8)"
   ]
  },
  {
   "cell_type": "code",
   "execution_count": 27,
   "metadata": {},
   "outputs": [],
   "source": [
    "# Write a function to take in a list of girls and boys and find every possible girl-boy dance combinations\n",
    "# for a dance partnership\n",
    "\n",
    "def dance_partners(girl_list, boy_list):\n",
    "    \n",
    "    for girl in girl_list:\n",
    "        for boy in boy_list:\n",
    "            print(girl, boy)\n",
    "                        "
   ]
  },
  {
   "cell_type": "code",
   "execution_count": 29,
   "metadata": {},
   "outputs": [
    {
     "name": "stdout",
     "output_type": "stream",
     "text": [
      "Priya Abhay\n",
      "Priya Dev\n",
      "Priya Ubaid\n",
      "Priya Ayaz\n",
      "Judy Abhay\n",
      "Judy Dev\n",
      "Judy Ubaid\n",
      "Judy Ayaz\n",
      "Athira Abhay\n",
      "Athira Dev\n",
      "Athira Ubaid\n",
      "Athira Ayaz\n"
     ]
    }
   ],
   "source": [
    "girl_list = ['Priya', 'Judy', 'Athira']\n",
    "boy_list = ['Abhay', 'Dev', 'Ubaid', 'Ayaz']\n",
    "\n",
    "dance_partners(girl_list, boy_list)"
   ]
  },
  {
   "cell_type": "code",
   "execution_count": 30,
   "metadata": {},
   "outputs": [],
   "source": [
    "# Count the number of vowels in a sentence and return the result in a dictionary\n",
    "\n",
    "def count_vowels(sentence:str) -> dict:\n",
    "    \n",
    "    vowels = ['a', 'e', 'i', 'o', 'u']\n",
    "    \n",
    "    vowel_count = {}\n",
    "    \n",
    "    for v in vowels:\n",
    "        vowel_count[v] = 0\n",
    "\n",
    "    for ch in sentence.lower():\n",
    "        \n",
    "        if ch in vowels:\n",
    "            vowel_count[ch] += 1\n",
    "            \n",
    "    return vowel_count        "
   ]
  },
  {
   "cell_type": "code",
   "execution_count": 31,
   "metadata": {},
   "outputs": [
    {
     "data": {
      "text/plain": [
       "{'a': 4, 'e': 0, 'i': 2, 'o': 1, 'u': 1}"
      ]
     },
     "execution_count": 31,
     "metadata": {},
     "output_type": "execute_result"
    }
   ],
   "source": [
    "count_vowels('Today is a bright and sunny day!')"
   ]
  },
  {
   "cell_type": "code",
   "execution_count": 37,
   "metadata": {},
   "outputs": [],
   "source": [
    "# Take as an input two sorted lists and merge them together into one sorted list. Preserve the original lists\n",
    "\n",
    "\n",
    "def merge_lists(list_a, list_b):\n",
    "    \n",
    "    sorted_list_a = sorted(list_a)\n",
    "    sorted_list_b = sorted(list_b)\n",
    "    \n",
    "    index_a = 0\n",
    "    index_b = 0\n",
    "    \n",
    "    final_list = []\n",
    "    \n",
    "    total_len = len(sorted_list_a) + len(sorted_list_b)\n",
    "    \n",
    "    while len(final_list) < total_len :\n",
    "        \n",
    "        if sorted_list_a[index_a] < sorted_list_b[index_b]:\n",
    "\n",
    "            final_list.append(sorted_list_a[index_a])\n",
    "            index_a += 1\n",
    "        \n",
    "        else:\n",
    "            final_list.append(sorted_list_b[index_b])\n",
    "            index_b += 1\n",
    "    \n",
    "    return final_list"
   ]
  },
  {
   "cell_type": "code",
   "execution_count": 38,
   "metadata": {},
   "outputs": [
    {
     "ename": "IndexError",
     "evalue": "list index out of range",
     "output_type": "error",
     "traceback": [
      "\u001b[0;31m---------------------------------------------------------------------------\u001b[0m",
      "\u001b[0;31mIndexError\u001b[0m                                Traceback (most recent call last)",
      "\u001b[0;32m<ipython-input-38-73b16856d811>\u001b[0m in \u001b[0;36m<module>\u001b[0;34m()\u001b[0m\n\u001b[1;32m      2\u001b[0m \u001b[0mb\u001b[0m \u001b[0;34m=\u001b[0m \u001b[0;34m[\u001b[0m\u001b[0;36m88\u001b[0m\u001b[0;34m,\u001b[0m \u001b[0;36m34\u001b[0m\u001b[0;34m,\u001b[0m \u001b[0;36m23\u001b[0m\u001b[0;34m,\u001b[0m \u001b[0;36m45\u001b[0m\u001b[0;34m,\u001b[0m \u001b[0;36m67\u001b[0m\u001b[0;34m,\u001b[0m \u001b[0;36m76\u001b[0m\u001b[0;34m,\u001b[0m \u001b[0;36m12\u001b[0m\u001b[0;34m,\u001b[0m \u001b[0;36m99\u001b[0m\u001b[0;34m]\u001b[0m\u001b[0;34m\u001b[0m\u001b[0m\n\u001b[1;32m      3\u001b[0m \u001b[0;34m\u001b[0m\u001b[0m\n\u001b[0;32m----> 4\u001b[0;31m \u001b[0mmerge_lists\u001b[0m\u001b[0;34m(\u001b[0m\u001b[0ma\u001b[0m\u001b[0;34m,\u001b[0m \u001b[0mb\u001b[0m\u001b[0;34m)\u001b[0m\u001b[0;34m\u001b[0m\u001b[0m\n\u001b[0m",
      "\u001b[0;32m<ipython-input-37-a804a9a63a9a>\u001b[0m in \u001b[0;36mmerge_lists\u001b[0;34m(list_a, list_b)\u001b[0m\n\u001b[1;32m     16\u001b[0m     \u001b[0;32mwhile\u001b[0m \u001b[0mlen\u001b[0m\u001b[0;34m(\u001b[0m\u001b[0mfinal_list\u001b[0m\u001b[0;34m)\u001b[0m \u001b[0;34m<\u001b[0m \u001b[0mtotal_len\u001b[0m \u001b[0;34m:\u001b[0m\u001b[0;34m\u001b[0m\u001b[0m\n\u001b[1;32m     17\u001b[0m \u001b[0;34m\u001b[0m\u001b[0m\n\u001b[0;32m---> 18\u001b[0;31m         \u001b[0;32mif\u001b[0m \u001b[0msorted_list_a\u001b[0m\u001b[0;34m[\u001b[0m\u001b[0mindex_a\u001b[0m\u001b[0;34m]\u001b[0m \u001b[0;34m<\u001b[0m \u001b[0msorted_list_b\u001b[0m\u001b[0;34m[\u001b[0m\u001b[0mindex_b\u001b[0m\u001b[0;34m]\u001b[0m\u001b[0;34m:\u001b[0m\u001b[0;34m\u001b[0m\u001b[0m\n\u001b[0m\u001b[1;32m     19\u001b[0m \u001b[0;34m\u001b[0m\u001b[0m\n\u001b[1;32m     20\u001b[0m             \u001b[0mfinal_list\u001b[0m\u001b[0;34m.\u001b[0m\u001b[0mappend\u001b[0m\u001b[0;34m(\u001b[0m\u001b[0msorted_list_a\u001b[0m\u001b[0;34m[\u001b[0m\u001b[0mindex_a\u001b[0m\u001b[0;34m]\u001b[0m\u001b[0;34m)\u001b[0m\u001b[0;34m\u001b[0m\u001b[0m\n",
      "\u001b[0;31mIndexError\u001b[0m: list index out of range"
     ]
    }
   ],
   "source": [
    "a = [3, 5, 1, 9, 22, 34, 11, 32, 56, 3]\n",
    "b = [88, 34, 23, 45, 67, 76, 12, 99]\n",
    "\n",
    "merge_lists(a, b)"
   ]
  },
  {
   "cell_type": "code",
   "execution_count": 39,
   "metadata": {},
   "outputs": [],
   "source": [
    "def merge_lists(list_a, list_b):\n",
    "    \n",
    "    sorted_list_a = sorted(list_a)\n",
    "    sorted_list_b = sorted(list_b)\n",
    "    \n",
    "    index_a = 0\n",
    "    index_b = 0\n",
    "    \n",
    "    final_list = []\n",
    "    \n",
    "    len_a = len(sorted_list_a)\n",
    "    len_b = len(sorted_list_b)\n",
    "\n",
    "    total_len = len_a + len_b\n",
    "    \n",
    "    while len(final_list) < total_len and index_a < len_a and index_b < len_b:\n",
    "        \n",
    "        if sorted_list_a[index_a] < sorted_list_b[index_b]:\n",
    "\n",
    "            final_list.append(sorted_list_a[index_a])\n",
    "            index_a += 1\n",
    "        \n",
    "        else:\n",
    "            final_list.append(sorted_list_b[index_b])\n",
    "            index_b += 1\n",
    "    \n",
    "    if index_a < len_a:\n",
    "        while index_a < len_a:\n",
    "            final_list.append(sorted_list_a[index_a])\n",
    "            index_a += 1\n",
    "\n",
    "    elif index_b < len_b:\n",
    "        while index_b < len_b:\n",
    "            final_list.append(sorted_list_b[index_b])\n",
    "            index_b += 1\n",
    "    \n",
    "    return final_list"
   ]
  },
  {
   "cell_type": "code",
   "execution_count": 40,
   "metadata": {},
   "outputs": [
    {
     "data": {
      "text/plain": [
       "[1, 3, 3, 5, 9, 11, 12, 22, 23, 32, 34, 34, 45, 56, 67, 76, 88, 99]"
      ]
     },
     "execution_count": 40,
     "metadata": {},
     "output_type": "execute_result"
    }
   ],
   "source": [
    "a = [3, 5, 1, 9, 22, 34, 11, 32, 56, 3]\n",
    "b = [88, 34, 23, 45, 67, 76, 12, 99]\n",
    "\n",
    "merge_lists(a, b)"
   ]
  },
  {
   "cell_type": "code",
   "execution_count": null,
   "metadata": {},
   "outputs": [],
   "source": []
  }
 ],
 "metadata": {
  "kernelspec": {
   "display_name": "Python 3",
   "language": "python",
   "name": "python3"
  },
  "language_info": {
   "codemirror_mode": {
    "name": "ipython",
    "version": 3
   },
   "file_extension": ".py",
   "mimetype": "text/x-python",
   "name": "python",
   "nbconvert_exporter": "python",
   "pygments_lexer": "ipython3",
   "version": "3.8.8"
  }
 },
 "nbformat": 4,
 "nbformat_minor": 2
}
