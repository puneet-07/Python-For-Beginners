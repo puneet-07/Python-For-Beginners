{
 "cells": [
  {
   "cell_type": "markdown",
   "metadata": {},
   "source": [
    "#### Student class with only variables"
   ]
  },
  {
   "cell_type": "code",
   "execution_count": 6,
   "metadata": {},
   "outputs": [],
   "source": [
    "class Student:\n",
    "    \n",
    "    name = ''\n",
    "    score = 0\n",
    "    active = True"
   ]
  },
  {
   "cell_type": "code",
   "execution_count": 15,
   "metadata": {},
   "outputs": [],
   "source": [
    "s1 = Student()"
   ]
  },
  {
   "cell_type": "code",
   "execution_count": 16,
   "metadata": {},
   "outputs": [
    {
     "data": {
      "text/plain": [
       "''"
      ]
     },
     "execution_count": 16,
     "metadata": {},
     "output_type": "execute_result"
    }
   ],
   "source": [
    "s1.name"
   ]
  },
  {
   "cell_type": "code",
   "execution_count": 17,
   "metadata": {},
   "outputs": [
    {
     "data": {
      "text/plain": [
       "0"
      ]
     },
     "execution_count": 17,
     "metadata": {},
     "output_type": "execute_result"
    }
   ],
   "source": [
    "s1.score"
   ]
  },
  {
   "cell_type": "code",
   "execution_count": 18,
   "metadata": {},
   "outputs": [
    {
     "data": {
      "text/plain": [
       "True"
      ]
     },
     "execution_count": 18,
     "metadata": {},
     "output_type": "execute_result"
    }
   ],
   "source": [
    "s1.active"
   ]
  },
  {
   "cell_type": "code",
   "execution_count": 19,
   "metadata": {},
   "outputs": [],
   "source": [
    "s1.name = 'Guby'"
   ]
  },
  {
   "cell_type": "code",
   "execution_count": 21,
   "metadata": {},
   "outputs": [],
   "source": [
    "s1.score = 50\n",
    "s1.active = True"
   ]
  },
  {
   "cell_type": "code",
   "execution_count": 22,
   "metadata": {},
   "outputs": [
    {
     "data": {
      "text/plain": [
       "('Guby', 50, True)"
      ]
     },
     "execution_count": 22,
     "metadata": {},
     "output_type": "execute_result"
    }
   ],
   "source": [
    "s1.name, s1.score, s1.active"
   ]
  },
  {
   "cell_type": "code",
   "execution_count": 23,
   "metadata": {},
   "outputs": [],
   "source": [
    "s2 = Student()"
   ]
  },
  {
   "cell_type": "code",
   "execution_count": 24,
   "metadata": {},
   "outputs": [
    {
     "data": {
      "text/plain": [
       "('', 0, True)"
      ]
     },
     "execution_count": 24,
     "metadata": {},
     "output_type": "execute_result"
    }
   ],
   "source": [
    "s2.name, s2.score, s2.active"
   ]
  },
  {
   "cell_type": "code",
   "execution_count": 25,
   "metadata": {},
   "outputs": [],
   "source": [
    "s2.name = 'Regi'"
   ]
  },
  {
   "cell_type": "code",
   "execution_count": 26,
   "metadata": {},
   "outputs": [
    {
     "data": {
      "text/plain": [
       "('Regi', 0, True)"
      ]
     },
     "execution_count": 26,
     "metadata": {},
     "output_type": "execute_result"
    }
   ],
   "source": [
    "s2.name, s2.score, s2.active"
   ]
  },
  {
   "cell_type": "code",
   "execution_count": 27,
   "metadata": {},
   "outputs": [
    {
     "data": {
      "text/plain": [
       "('Guby', 50, True)"
      ]
     },
     "execution_count": 27,
     "metadata": {},
     "output_type": "execute_result"
    }
   ],
   "source": [
    "s1.name, s1.score, s1.active"
   ]
  },
  {
   "cell_type": "code",
   "execution_count": 29,
   "metadata": {},
   "outputs": [
    {
     "data": {
      "text/plain": [
       "(<__main__.Student at 0x108f8c4a8>, <__main__.Student at 0x108fa6860>)"
      ]
     },
     "execution_count": 29,
     "metadata": {},
     "output_type": "execute_result"
    }
   ],
   "source": [
    "s1, s2"
   ]
  },
  {
   "cell_type": "markdown",
   "metadata": {},
   "source": [
    "#### Class with variables and methods"
   ]
  },
  {
   "cell_type": "code",
   "execution_count": 36,
   "metadata": {},
   "outputs": [],
   "source": [
    "class Dog:\n",
    "    \"\"\" This is a class which defines a dog.\n",
    "        This includes cute dogs as well as ferocious dogs.\n",
    "    \"\"\"\n",
    "    \n",
    "    \n",
    "    # Breed and name of the dog\n",
    "    breed = 'labrador'\n",
    "    name = 'Nemo'\n",
    "    \n",
    "    def print_dog_info():\n",
    "\n",
    "        print('My name is %s and I am a %s' % (name, breed))"
   ]
  },
  {
   "cell_type": "code",
   "execution_count": 37,
   "metadata": {},
   "outputs": [],
   "source": [
    "d1 = Dog()"
   ]
  },
  {
   "cell_type": "code",
   "execution_count": 38,
   "metadata": {},
   "outputs": [
    {
     "ename": "TypeError",
     "evalue": "print_dog_info() takes 0 positional arguments but 1 was given",
     "output_type": "error",
     "traceback": [
      "\u001b[0;31m---------------------------------------------------------------------------\u001b[0m",
      "\u001b[0;31mTypeError\u001b[0m                                 Traceback (most recent call last)",
      "\u001b[0;32m<ipython-input-38-dd1df906dad6>\u001b[0m in \u001b[0;36m<module>\u001b[0;34m()\u001b[0m\n\u001b[0;32m----> 1\u001b[0;31m \u001b[0md1\u001b[0m\u001b[0;34m.\u001b[0m\u001b[0mprint_dog_info\u001b[0m\u001b[0;34m(\u001b[0m\u001b[0;34m)\u001b[0m\u001b[0;34m\u001b[0m\u001b[0m\n\u001b[0m",
      "\u001b[0;31mTypeError\u001b[0m: print_dog_info() takes 0 positional arguments but 1 was given"
     ]
    }
   ],
   "source": [
    "d1.print_dog_info()"
   ]
  },
  {
   "cell_type": "code",
   "execution_count": 39,
   "metadata": {},
   "outputs": [],
   "source": [
    "class Dog:\n",
    "    \"\"\" This is a class which defines a dog.\n",
    "        This includes cute dogs as well as ferocious dogs.\n",
    "    \"\"\"\n",
    "    \n",
    "    \n",
    "    # Breed and name of the dog\n",
    "    breed = 'labrador'\n",
    "    name = 'Nemo'\n",
    "    \n",
    "    def print_dog_info(self):\n",
    "\n",
    "        print('My name is %s and I am a %s' % (name, breed))"
   ]
  },
  {
   "cell_type": "code",
   "execution_count": 40,
   "metadata": {},
   "outputs": [
    {
     "ename": "NameError",
     "evalue": "name 'name' is not defined",
     "output_type": "error",
     "traceback": [
      "\u001b[0;31m---------------------------------------------------------------------------\u001b[0m",
      "\u001b[0;31mNameError\u001b[0m                                 Traceback (most recent call last)",
      "\u001b[0;32m<ipython-input-40-8b79dafb3f7b>\u001b[0m in \u001b[0;36m<module>\u001b[0;34m()\u001b[0m\n\u001b[1;32m      1\u001b[0m \u001b[0md1\u001b[0m \u001b[0;34m=\u001b[0m \u001b[0mDog\u001b[0m\u001b[0;34m(\u001b[0m\u001b[0;34m)\u001b[0m\u001b[0;34m\u001b[0m\u001b[0m\n\u001b[1;32m      2\u001b[0m \u001b[0;34m\u001b[0m\u001b[0m\n\u001b[0;32m----> 3\u001b[0;31m \u001b[0md1\u001b[0m\u001b[0;34m.\u001b[0m\u001b[0mprint_dog_info\u001b[0m\u001b[0;34m(\u001b[0m\u001b[0;34m)\u001b[0m\u001b[0;34m\u001b[0m\u001b[0m\n\u001b[0m",
      "\u001b[0;32m<ipython-input-39-e1651848385d>\u001b[0m in \u001b[0;36mprint_dog_info\u001b[0;34m(self)\u001b[0m\n\u001b[1;32m     11\u001b[0m     \u001b[0;32mdef\u001b[0m \u001b[0mprint_dog_info\u001b[0m\u001b[0;34m(\u001b[0m\u001b[0mself\u001b[0m\u001b[0;34m)\u001b[0m\u001b[0;34m:\u001b[0m\u001b[0;34m\u001b[0m\u001b[0m\n\u001b[1;32m     12\u001b[0m \u001b[0;34m\u001b[0m\u001b[0m\n\u001b[0;32m---> 13\u001b[0;31m         \u001b[0mprint\u001b[0m\u001b[0;34m(\u001b[0m\u001b[0;34m'My name is %s and I am a %s'\u001b[0m \u001b[0;34m%\u001b[0m \u001b[0;34m(\u001b[0m\u001b[0mname\u001b[0m\u001b[0;34m,\u001b[0m \u001b[0mbreed\u001b[0m\u001b[0;34m)\u001b[0m\u001b[0;34m)\u001b[0m\u001b[0;34m\u001b[0m\u001b[0m\n\u001b[0m",
      "\u001b[0;31mNameError\u001b[0m: name 'name' is not defined"
     ]
    }
   ],
   "source": [
    "d1 = Dog()\n",
    "\n",
    "d1.print_dog_info()"
   ]
  },
  {
   "cell_type": "code",
   "execution_count": 45,
   "metadata": {},
   "outputs": [],
   "source": [
    "class Dog:\n",
    "    \"\"\" This is a class which defines a dog.\n",
    "        This includes cute dogs as well as ferocious dogs.\n",
    "    \"\"\"\n",
    "    \n",
    "    # Breed and name of the dog\n",
    "    breed = 'labrador'\n",
    "    name = 'Nemo'\n",
    "    \n",
    "    def print_dog_info(self):\n",
    "\n",
    "        print('My name is %s and I am a %s' % (self.name, self.breed))"
   ]
  },
  {
   "cell_type": "code",
   "execution_count": 46,
   "metadata": {},
   "outputs": [
    {
     "name": "stdout",
     "output_type": "stream",
     "text": [
      "My name is Nemo and I am a labrador\n"
     ]
    }
   ],
   "source": [
    "d1 = Dog()\n",
    "\n",
    "d1.print_dog_info()"
   ]
  },
  {
   "cell_type": "code",
   "execution_count": 48,
   "metadata": {},
   "outputs": [
    {
     "name": "stdout",
     "output_type": "stream",
     "text": [
      "My name is Oba and I am a labrador\n"
     ]
    }
   ],
   "source": [
    "d1.name = \"Oba\"\n",
    "\n",
    "d1.print_dog_info()"
   ]
  },
  {
   "cell_type": "markdown",
   "metadata": {},
   "source": [
    "#### Making variables private. This is a hack in Python"
   ]
  },
  {
   "cell_type": "code",
   "execution_count": 65,
   "metadata": {},
   "outputs": [],
   "source": [
    "class Dog:\n",
    "    \"\"\" This is a class which defines a dog.\n",
    "        This includes acute dogs as well as ferocious dogs.\n",
    "    \"\"\"\n",
    "    \n",
    "    # Breed and name of the dog\n",
    "    __breed = 'labrador'\n",
    "    __name = 'Nemo'\n",
    "    \n",
    "    def print_dog_info(self):\n",
    "\n",
    "        print('My name is %s and I am a %s' % (self.__name, self.__breed))"
   ]
  },
  {
   "cell_type": "code",
   "execution_count": 66,
   "metadata": {},
   "outputs": [
    {
     "name": "stdout",
     "output_type": "stream",
     "text": [
      "My name is Nemo and I am a labrador\n"
     ]
    }
   ],
   "source": [
    "d1 = Dog()\n",
    "\n",
    "d1.print_dog_info()"
   ]
  },
  {
   "cell_type": "code",
   "execution_count": 67,
   "metadata": {},
   "outputs": [
    {
     "name": "stdout",
     "output_type": "stream",
     "text": [
      "My name is Nemo and I am a labrador\n"
     ]
    }
   ],
   "source": [
    "d1.__name = \"Oba\"\n",
    "\n",
    "d1.print_dog_info()"
   ]
  },
  {
   "cell_type": "code",
   "execution_count": 75,
   "metadata": {},
   "outputs": [],
   "source": [
    "class Dog:\n",
    "    \"\"\" This is a class which defines a dog.\n",
    "        This includes cute dogs as well as ferocious dogs.\n",
    "    \"\"\"\n",
    "    \n",
    "    # Breed and name of the dog\n",
    "    __breed = 'labrador'\n",
    "    __name = 'Nemo'\n",
    "    \n",
    "    def print_dog_info(self):\n",
    "        print('My name is %s and I am a %s' % (self.__name, self.__breed))\n",
    "        \n",
    "    def change_name(self, name):\n",
    "        self.__name = name"
   ]
  },
  {
   "cell_type": "code",
   "execution_count": 76,
   "metadata": {},
   "outputs": [
    {
     "name": "stdout",
     "output_type": "stream",
     "text": [
      "My name is Nemo and I am a labrador\n"
     ]
    }
   ],
   "source": [
    "d1 = Dog()\n",
    "\n",
    "d1.print_dog_info()"
   ]
  },
  {
   "cell_type": "code",
   "execution_count": 77,
   "metadata": {},
   "outputs": [
    {
     "name": "stdout",
     "output_type": "stream",
     "text": [
      "My name is Oba and I am a labrador\n"
     ]
    }
   ],
   "source": [
    "d1.change_name(\"Oba\")\n",
    "\n",
    "d1.print_dog_info()"
   ]
  },
  {
   "cell_type": "code",
   "execution_count": null,
   "metadata": {},
   "outputs": [],
   "source": []
  },
  {
   "cell_type": "markdown",
   "metadata": {},
   "source": [
    "#### Initializing classes in Python"
   ]
  },
  {
   "cell_type": "code",
   "execution_count": 68,
   "metadata": {},
   "outputs": [],
   "source": [
    "class Dog:\n",
    "    \"\"\" This is a class which defines a dog.\n",
    "        This includes cute dogs as well as ferocious dogs.\n",
    "    \"\"\"\n",
    "    \n",
    "    # Breed and name of the dog\n",
    "    __breed = 'labrador'\n",
    "    __name = 'Nemo'\n",
    "    \n",
    "    \n",
    "    def __init__(self, name, breed):\n",
    "        self.__name = name\n",
    "        self.__breed = breed\n",
    "    \n",
    "    \n",
    "    def print_dog_info(self):\n",
    "\n",
    "        print('My name is %s and I am a %s' % (self.__name, self.__breed))"
   ]
  },
  {
   "cell_type": "code",
   "execution_count": 69,
   "metadata": {},
   "outputs": [
    {
     "ename": "TypeError",
     "evalue": "__init__() missing 2 required positional arguments: 'name' and 'breed'",
     "output_type": "error",
     "traceback": [
      "\u001b[0;31m---------------------------------------------------------------------------\u001b[0m",
      "\u001b[0;31mTypeError\u001b[0m                                 Traceback (most recent call last)",
      "\u001b[0;32m<ipython-input-69-752f4e283df2>\u001b[0m in \u001b[0;36m<module>\u001b[0;34m()\u001b[0m\n\u001b[0;32m----> 1\u001b[0;31m \u001b[0md1\u001b[0m \u001b[0;34m=\u001b[0m \u001b[0mDog\u001b[0m\u001b[0;34m(\u001b[0m\u001b[0;34m)\u001b[0m\u001b[0;34m\u001b[0m\u001b[0m\n\u001b[0m",
      "\u001b[0;31mTypeError\u001b[0m: __init__() missing 2 required positional arguments: 'name' and 'breed'"
     ]
    }
   ],
   "source": [
    "d1 = Dog()"
   ]
  },
  {
   "cell_type": "code",
   "execution_count": 70,
   "metadata": {},
   "outputs": [
    {
     "name": "stdout",
     "output_type": "stream",
     "text": [
      "My name is Moje and I am a Golden Retriever\n"
     ]
    }
   ],
   "source": [
    "d1 = Dog('Moje', 'Golden Retriever')\n",
    "\n",
    "d1.print_dog_info()"
   ]
  },
  {
   "cell_type": "code",
   "execution_count": 71,
   "metadata": {},
   "outputs": [],
   "source": [
    "class Dog:\n",
    "    \"\"\" This is a class which defines a dog.\n",
    "        This includes cute dogs as well as ferocious dogs.\n",
    "    \"\"\"\n",
    "    \n",
    "    # Breed and name of the dog\n",
    "    __breed = ''\n",
    "    __name = ''\n",
    "    \n",
    "    \n",
    "    def __init__(self, name='Nemo', breed='Labrador'):\n",
    "        self.__name = name\n",
    "        self.__breed = breed\n",
    "    \n",
    "    \n",
    "    def print_dog_info(self):\n",
    "\n",
    "        print('My name is %s and I am a %s' % (self.__name, self.__breed))"
   ]
  },
  {
   "cell_type": "code",
   "execution_count": 72,
   "metadata": {},
   "outputs": [
    {
     "name": "stdout",
     "output_type": "stream",
     "text": [
      "My name is Moje and I am a Golden Retriever\n"
     ]
    }
   ],
   "source": [
    "d1 = Dog('Moje', 'Golden Retriever')\n",
    "\n",
    "d1.print_dog_info()"
   ]
  },
  {
   "cell_type": "code",
   "execution_count": 73,
   "metadata": {},
   "outputs": [
    {
     "name": "stdout",
     "output_type": "stream",
     "text": [
      "My name is Nemo and I am a Labrador\n"
     ]
    }
   ],
   "source": [
    "d1 = Dog()\n",
    "\n",
    "d1.print_dog_info()"
   ]
  },
  {
   "cell_type": "markdown",
   "metadata": {},
   "source": [
    "#### Shared variables and member variables"
   ]
  },
  {
   "cell_type": "code",
   "execution_count": 96,
   "metadata": {},
   "outputs": [],
   "source": [
    "class Dog:\n",
    "    \"\"\" This is a class which defines a dog.\n",
    "        This includes cute dogs as well as ferocious dogs.\n",
    "    \"\"\"\n",
    "    \n",
    "    # These variables are actually shared by all class instances\n",
    "    __breed = ''\n",
    "    __name = ''\n",
    "    __tricks = []    \n",
    "    \n",
    "    def __init__(self, name, breed):\n",
    "        self.__name = name\n",
    "        self.__breed = breed\n",
    "    \n",
    "    def print_dog_info(self):\n",
    "        print('My name is %s and I am a %s' % (self.__name, self.__breed))\n",
    "        print('Here are the tricks I can do: ', self.__tricks)\n",
    "\n",
    "    def change_name(self, name):\n",
    "        self.__name = name\n",
    "        \n",
    "    def add_trick(self, trick):\n",
    "        self.__tricks.append(trick)"
   ]
  },
  {
   "cell_type": "code",
   "execution_count": 97,
   "metadata": {},
   "outputs": [
    {
     "name": "stdout",
     "output_type": "stream",
     "text": [
      "My name is Moje and I am a Golden Retriever\n",
      "Here are the tricks I can do:  []\n"
     ]
    }
   ],
   "source": [
    "d1 = Dog('Moje', 'Golden Retriever')\n",
    "\n",
    "d1.print_dog_info()"
   ]
  },
  {
   "cell_type": "code",
   "execution_count": 98,
   "metadata": {},
   "outputs": [
    {
     "name": "stdout",
     "output_type": "stream",
     "text": [
      "My name is Nemo and I am a Mongrel\n",
      "Here are the tricks I can do:  []\n"
     ]
    }
   ],
   "source": [
    "d2 = Dog('Nemo', 'Mongrel')\n",
    "\n",
    "d2.print_dog_info()"
   ]
  },
  {
   "cell_type": "code",
   "execution_count": 124,
   "metadata": {},
   "outputs": [
    {
     "name": "stdout",
     "output_type": "stream",
     "text": [
      "My name is Dumbo and I am a Labrador\n",
      "Here are the tricks I can do:  []\n"
     ]
    }
   ],
   "source": [
    "# Note that this takes only one argument\n",
    "d1.change_name('Dumbo')\n",
    "\n",
    "d1.print_dog_info()"
   ]
  },
  {
   "cell_type": "code",
   "execution_count": 101,
   "metadata": {},
   "outputs": [
    {
     "name": "stdout",
     "output_type": "stream",
     "text": [
      "My name is Nemo and I am a Mongrel\n",
      "Here are the tricks I can do:  []\n"
     ]
    }
   ],
   "source": [
    "d2.print_dog_info()"
   ]
  },
  {
   "cell_type": "code",
   "execution_count": 102,
   "metadata": {},
   "outputs": [
    {
     "name": "stdout",
     "output_type": "stream",
     "text": [
      "My name is Dumbo and I am a Golden Retriever\n",
      "Here are the tricks I can do:  ['Roll over']\n"
     ]
    }
   ],
   "source": [
    "d1.add_trick('Roll over')\n",
    "\n",
    "d1.print_dog_info()"
   ]
  },
  {
   "cell_type": "code",
   "execution_count": 103,
   "metadata": {},
   "outputs": [
    {
     "name": "stdout",
     "output_type": "stream",
     "text": [
      "My name is Nemo and I am a Mongrel\n",
      "Here are the tricks I can do:  ['Roll over']\n"
     ]
    }
   ],
   "source": [
    "d2.print_dog_info()"
   ]
  },
  {
   "cell_type": "code",
   "execution_count": 104,
   "metadata": {},
   "outputs": [],
   "source": [
    "class Dog:\n",
    "    \"\"\" This is a class which defines a dog.\n",
    "        This includes cute dogs as well as ferocious dogs.\n",
    "    \"\"\"\n",
    "    \n",
    "    # These variables are actually shared by all class instances\n",
    "    __kind = 'canine'\n",
    "    \n",
    "    def __init__(self, name, breed):\n",
    "        self.__name = name\n",
    "        self.__breed = breed\n",
    "        self.__tricks = []\n",
    "    \n",
    "    def print_dog_info(self):\n",
    "        print('My name is %s and I am a %s' % (self.__name, self.__breed))\n",
    "        print('Here are the tricks I can do: ', self.__tricks)\n",
    "\n",
    "    def change_name(self, name):\n",
    "        self.__name = name\n",
    "        \n",
    "    def add_trick(self, trick):\n",
    "        self.__tricks.append(trick)"
   ]
  },
  {
   "cell_type": "code",
   "execution_count": 111,
   "metadata": {},
   "outputs": [
    {
     "name": "stdout",
     "output_type": "stream",
     "text": [
      "My name is Moje and I am a Golden Retriever\n",
      "Here are the tricks I can do:  []\n"
     ]
    }
   ],
   "source": [
    "d1 = Dog('Moje', 'Golden Retriever')\n",
    "\n",
    "d1.print_dog_info()"
   ]
  },
  {
   "cell_type": "code",
   "execution_count": 112,
   "metadata": {},
   "outputs": [
    {
     "name": "stdout",
     "output_type": "stream",
     "text": [
      "My name is Nemo and I am a Mongrel\n",
      "Here are the tricks I can do:  []\n"
     ]
    }
   ],
   "source": [
    "d2 = Dog('Nemo', 'Mongrel')\n",
    "\n",
    "d2.print_dog_info()"
   ]
  },
  {
   "cell_type": "code",
   "execution_count": 113,
   "metadata": {},
   "outputs": [
    {
     "name": "stdout",
     "output_type": "stream",
     "text": [
      "My name is Moje and I am a Golden Retriever\n",
      "Here are the tricks I can do:  ['Roll over']\n"
     ]
    }
   ],
   "source": [
    "d1.add_trick('Roll over')\n",
    "\n",
    "d1.print_dog_info()"
   ]
  },
  {
   "cell_type": "code",
   "execution_count": 114,
   "metadata": {},
   "outputs": [
    {
     "name": "stdout",
     "output_type": "stream",
     "text": [
      "My name is Nemo and I am a Mongrel\n",
      "Here are the tricks I can do:  []\n"
     ]
    }
   ],
   "source": [
    "d2.print_dog_info()"
   ]
  },
  {
   "cell_type": "code",
   "execution_count": 115,
   "metadata": {},
   "outputs": [],
   "source": [
    "d2.add_trick('Play dead')"
   ]
  },
  {
   "cell_type": "code",
   "execution_count": 117,
   "metadata": {},
   "outputs": [
    {
     "name": "stdout",
     "output_type": "stream",
     "text": [
      "My name is Nemo and I am a Mongrel\n",
      "Here are the tricks I can do:  ['Play dead']\n"
     ]
    }
   ],
   "source": [
    "d2.print_dog_info()"
   ]
  },
  {
   "cell_type": "code",
   "execution_count": 118,
   "metadata": {},
   "outputs": [
    {
     "name": "stdout",
     "output_type": "stream",
     "text": [
      "My name is Moje and I am a Golden Retriever\n",
      "Here are the tricks I can do:  ['Roll over']\n"
     ]
    }
   ],
   "source": [
    "d1.print_dog_info()"
   ]
  },
  {
   "cell_type": "markdown",
   "metadata": {},
   "source": [
    "#### Calling one method from another within a class"
   ]
  },
  {
   "cell_type": "code",
   "execution_count": 120,
   "metadata": {},
   "outputs": [],
   "source": [
    "class Dog:\n",
    "    \"\"\" This is a class which defines a dog.\n",
    "        This includes cute dogs as well as ferocious dogs.\n",
    "    \"\"\"\n",
    "    \n",
    "    __kind = 'canine'\n",
    "    \n",
    "    def __init__(self, name, breed):\n",
    "        self.__name = name\n",
    "        self.__breed = breed\n",
    "        self.__tricks = []\n",
    "    \n",
    "    def print_dog_info(self):\n",
    "        print('My name is %s and I am a %s' % (self.__name, self.__breed))\n",
    "        print('Here are the tricks I can do: ', self.__tricks)\n",
    "\n",
    "    def change_name(self, name):\n",
    "        self.__name = name\n",
    "\n",
    "    def change_breed(self, breed):\n",
    "        self.__breed = breed\n",
    "\n",
    "    def change_name_and_breed(self, name, breed):\n",
    "        self.change_name(name)\n",
    "        self.change_breed(breed)\n",
    "        \n",
    "    def add_trick(self, trick):\n",
    "        self.__tricks.append(trick)"
   ]
  },
  {
   "cell_type": "code",
   "execution_count": 121,
   "metadata": {},
   "outputs": [
    {
     "name": "stdout",
     "output_type": "stream",
     "text": [
      "My name is Moje and I am a Golden Retriever\n",
      "Here are the tricks I can do:  []\n"
     ]
    }
   ],
   "source": [
    "d1 = Dog('Moje', 'Golden Retriever')\n",
    "\n",
    "d1.print_dog_info()"
   ]
  },
  {
   "cell_type": "code",
   "execution_count": 123,
   "metadata": {},
   "outputs": [
    {
     "name": "stdout",
     "output_type": "stream",
     "text": [
      "My name is Oba and I am a Labrador\n",
      "Here are the tricks I can do:  []\n"
     ]
    }
   ],
   "source": [
    "d1.change_name_and_breed('Oba', 'Labrador')\n",
    "\n",
    "d1.print_dog_info()"
   ]
  },
  {
   "cell_type": "code",
   "execution_count": null,
   "metadata": {},
   "outputs": [],
   "source": []
  },
  {
   "cell_type": "code",
   "execution_count": null,
   "metadata": {},
   "outputs": [],
   "source": []
  },
  {
   "cell_type": "code",
   "execution_count": null,
   "metadata": {},
   "outputs": [],
   "source": []
  },
  {
   "cell_type": "code",
   "execution_count": null,
   "metadata": {},
   "outputs": [],
   "source": []
  },
  {
   "cell_type": "code",
   "execution_count": null,
   "metadata": {},
   "outputs": [],
   "source": []
  },
  {
   "cell_type": "code",
   "execution_count": null,
   "metadata": {},
   "outputs": [],
   "source": []
  },
  {
   "cell_type": "code",
   "execution_count": null,
   "metadata": {},
   "outputs": [],
   "source": []
  },
  {
   "cell_type": "code",
   "execution_count": null,
   "metadata": {},
   "outputs": [],
   "source": []
  },
  {
   "cell_type": "code",
   "execution_count": null,
   "metadata": {},
   "outputs": [],
   "source": []
  },
  {
   "cell_type": "code",
   "execution_count": null,
   "metadata": {},
   "outputs": [],
   "source": []
  }
 ],
 "metadata": {
  "kernelspec": {
   "display_name": "Python 3",
   "language": "python",
   "name": "python3"
  },
  "language_info": {
   "codemirror_mode": {
    "name": "ipython",
    "version": 3
   },
   "file_extension": ".py",
   "mimetype": "text/x-python",
   "name": "python",
   "nbconvert_exporter": "python",
   "pygments_lexer": "ipython3",
   "version": "3.8.8"
  }
 },
 "nbformat": 4,
 "nbformat_minor": 2
}
