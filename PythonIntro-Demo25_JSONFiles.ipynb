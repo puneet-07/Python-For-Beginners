{
 "cells": [
  {
   "cell_type": "code",
   "execution_count": 35,
   "metadata": {},
   "outputs": [],
   "source": [
    "# Information about one entity in JSON, notice the \\ to indicate the statement has not ended\n",
    "jsonData = \\\n",
    "    \"\"\"\n",
    "    {\"name\": \"Ashish\", \"age\": 39, \"city\": \"Delhi\", \"degree\": \"B.E\"}\n",
    "    \"\"\""
   ]
  },
  {
   "cell_type": "code",
   "execution_count": 7,
   "metadata": {
    "collapsed": true
   },
   "outputs": [],
   "source": [
    "import json"
   ]
  },
  {
   "cell_type": "code",
   "execution_count": 8,
   "metadata": {
    "collapsed": true
   },
   "outputs": [],
   "source": [
    "details_dict = json.loads(jsonData)"
   ]
  },
  {
   "cell_type": "code",
   "execution_count": 9,
   "metadata": {},
   "outputs": [
    {
     "data": {
      "text/plain": [
       "dict"
      ]
     },
     "execution_count": 9,
     "metadata": {},
     "output_type": "execute_result"
    }
   ],
   "source": [
    "type(details_dict)"
   ]
  },
  {
   "cell_type": "code",
   "execution_count": 10,
   "metadata": {},
   "outputs": [
    {
     "data": {
      "text/plain": [
       "{'age': 39, 'city': 'Delhi', 'degree': 'B.E', 'name': 'Ashish'}"
      ]
     },
     "execution_count": 10,
     "metadata": {},
     "output_type": "execute_result"
    }
   ],
   "source": [
    "details_dict"
   ]
  },
  {
   "cell_type": "code",
   "execution_count": 18,
   "metadata": {},
   "outputs": [
    {
     "name": "stdout",
     "output_type": "stream",
     "text": [
      "{\"name\": \"Ashish\", \"age\": 39, \"city\": \"Delhi\", \"degree\": \"B.E\"}"
     ]
    }
   ],
   "source": [
    "!cat data/single_entity.json"
   ]
  },
  {
   "cell_type": "code",
   "execution_count": 22,
   "metadata": {},
   "outputs": [],
   "source": [
    "employees = []\n",
    "\n",
    "with open('data/single_entity.json', 'r') as f:\n",
    "    line = f.readline()\n",
    "\n",
    "    employee = json.loads(line)\n",
    "    employees.append(employee)"
   ]
  },
  {
   "cell_type": "code",
   "execution_count": 23,
   "metadata": {},
   "outputs": [
    {
     "data": {
      "text/plain": [
       "[{'age': 39, 'city': 'Delhi', 'degree': 'B.E', 'name': 'Ashish'}]"
      ]
     },
     "execution_count": 23,
     "metadata": {},
     "output_type": "execute_result"
    }
   ],
   "source": [
    "employees"
   ]
  },
  {
   "cell_type": "code",
   "execution_count": 26,
   "metadata": {},
   "outputs": [
    {
     "name": "stdout",
     "output_type": "stream",
     "text": [
      "{\"name\": \"Deb\", \"age\": 23, \"city\": \"Bangalore\", \"degree\": \"B.A\"}\r\n",
      "{\"name\": \"Abhay\", \"age\": 21, \"city\": \"Kolkata\", \"degree\": \"BSc\"}\r\n",
      "{\"name\": \"Vijay\", \"age\": 33, \"city\": \"Chennai\", \"degree\": \"B.E\"}\r\n"
     ]
    }
   ],
   "source": [
    "!cat data/list_of_entities.json"
   ]
  },
  {
   "cell_type": "code",
   "execution_count": 24,
   "metadata": {
    "collapsed": true
   },
   "outputs": [],
   "source": [
    "employees = []\n",
    "\n",
    "with open('data/list_of_entities.json', 'r') as f:\n",
    "    lines = f.readlines()\n",
    "\n",
    "    for line in lines:\n",
    "        employee = json.loads(line)\n",
    "        employees.append(employee)"
   ]
  },
  {
   "cell_type": "code",
   "execution_count": 25,
   "metadata": {},
   "outputs": [
    {
     "data": {
      "text/plain": [
       "[{'age': 23, 'city': 'Bangalore', 'degree': 'B.A', 'name': 'Deb'},\n",
       " {'age': 21, 'city': 'Kolkata', 'degree': 'BSc', 'name': 'Abhay'},\n",
       " {'age': 33, 'city': 'Chennai', 'degree': 'B.E', 'name': 'Vijay'}]"
      ]
     },
     "execution_count": 25,
     "metadata": {},
     "output_type": "execute_result"
    }
   ],
   "source": [
    "employees"
   ]
  },
  {
   "cell_type": "code",
   "execution_count": 27,
   "metadata": {
    "collapsed": true
   },
   "outputs": [],
   "source": [
    "new_employee = {\n",
    "    'name': 'Nisarg',\n",
    "    'age': 25, \n",
    "    'city': 'Bangalore', \n",
    "    'degree': 'B.Tech' \n",
    "}"
   ]
  },
  {
   "cell_type": "code",
   "execution_count": 28,
   "metadata": {
    "collapsed": true
   },
   "outputs": [],
   "source": [
    "line = json.dumps(new_employee)"
   ]
  },
  {
   "cell_type": "code",
   "execution_count": 29,
   "metadata": {},
   "outputs": [
    {
     "data": {
      "text/plain": [
       "'{\"name\": \"Nisarg\", \"age\": 25, \"city\": \"Bangalore\", \"degree\": \"B.Tech\"}'"
      ]
     },
     "execution_count": 29,
     "metadata": {},
     "output_type": "execute_result"
    }
   ],
   "source": [
    "line"
   ]
  },
  {
   "cell_type": "code",
   "execution_count": 33,
   "metadata": {},
   "outputs": [],
   "source": [
    "with open('data/list_of_entities.json', 'a') as f:\n",
    "    f.write(line + '\\n')"
   ]
  },
  {
   "cell_type": "code",
   "execution_count": 34,
   "metadata": {},
   "outputs": [
    {
     "name": "stdout",
     "output_type": "stream",
     "text": [
      "{\"name\": \"Deb\", \"age\": 23, \"city\": \"Bangalore\", \"degree\": \"B.A\"}\r\n",
      "{\"name\": \"Abhay\", \"age\": 21, \"city\": \"Kolkata\", \"degree\": \"BSc\"}\r\n",
      "{\"name\": \"Vijay\", \"age\": 33, \"city\": \"Chennai\", \"degree\": \"B.E\"}\r\n",
      "{\"name\": \"Nisarg\", \"age\": 25, \"city\": \"Bangalore\", \"degree\": \"B.Tech\"}\r\n"
     ]
    }
   ],
   "source": [
    "!cat data/list_of_entities.json"
   ]
  },
  {
   "cell_type": "code",
   "execution_count": null,
   "metadata": {
    "collapsed": true
   },
   "outputs": [],
   "source": []
  },
  {
   "cell_type": "code",
   "execution_count": null,
   "metadata": {
    "collapsed": true
   },
   "outputs": [],
   "source": []
  },
  {
   "cell_type": "code",
   "execution_count": null,
   "metadata": {
    "collapsed": true
   },
   "outputs": [],
   "source": []
  },
  {
   "cell_type": "code",
   "execution_count": null,
   "metadata": {
    "collapsed": true
   },
   "outputs": [],
   "source": []
  },
  {
   "cell_type": "code",
   "execution_count": null,
   "metadata": {
    "collapsed": true
   },
   "outputs": [],
   "source": []
  }
 ],
 "metadata": {
  "kernelspec": {
   "display_name": "Python 3",
   "language": "python",
   "name": "python3"
  },
  "language_info": {
   "codemirror_mode": {
    "name": "ipython",
    "version": 3
   },
   "file_extension": ".py",
   "mimetype": "text/x-python",
   "name": "python",
   "nbconvert_exporter": "python",
   "pygments_lexer": "ipython3",
   "version": "3.6.4"
  }
 },
 "nbformat": 4,
 "nbformat_minor": 2
}
