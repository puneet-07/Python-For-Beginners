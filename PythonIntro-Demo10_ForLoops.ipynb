{
 "cells": [
  {
   "cell_type": "code",
   "execution_count": 2,
   "metadata": {},
   "outputs": [],
   "source": [
    "tech_companies = ['Google', 'Apple', 'Facebook', 'Uber', 'Intel']"
   ]
  },
  {
   "cell_type": "code",
   "execution_count": 4,
   "metadata": {},
   "outputs": [
    {
     "name": "stdout",
     "output_type": "stream",
     "text": [
      "['Google', 'Apple', 'Facebook', 'Uber', 'Intel']\n"
     ]
    }
   ],
   "source": [
    "print(tech_companies)"
   ]
  },
  {
   "cell_type": "code",
   "execution_count": 3,
   "metadata": {},
   "outputs": [
    {
     "name": "stdout",
     "output_type": "stream",
     "text": [
      "Google\n",
      "Apple\n",
      "Facebook\n",
      "Uber\n",
      "Intel\n"
     ]
    }
   ],
   "source": [
    "for company in tech_companies:\n",
    "    print(company)"
   ]
  },
  {
   "cell_type": "code",
   "execution_count": 5,
   "metadata": {},
   "outputs": [],
   "source": [
    "some_numbers = [10, 20, 30, 40, 50]"
   ]
  },
  {
   "cell_type": "code",
   "execution_count": 6,
   "metadata": {},
   "outputs": [
    {
     "name": "stdout",
     "output_type": "stream",
     "text": [
      "The number is:  10\n",
      "The number is:  20\n",
      "The number is:  30\n",
      "The number is:  40\n",
      "The number is:  50\n"
     ]
    }
   ],
   "source": [
    "for num in some_numbers:\n",
    "    print('The number is: ', num)"
   ]
  },
  {
   "cell_type": "code",
   "execution_count": 9,
   "metadata": {},
   "outputs": [
    {
     "name": "stdout",
     "output_type": "stream",
     "text": [
      "The current value of total is:  10\n",
      "The current value of total is:  30\n",
      "The current value of total is:  60\n",
      "The current value of total is:  100\n",
      "The current value of total is:  150\n"
     ]
    }
   ],
   "source": [
    "total = 0\n",
    "\n",
    "for num in some_numbers:\n",
    "    total = total + num\n",
    "    print('The current value of total is: ', total)"
   ]
  },
  {
   "cell_type": "code",
   "execution_count": 10,
   "metadata": {},
   "outputs": [
    {
     "name": "stdout",
     "output_type": "stream",
     "text": [
      "The total of all numbers:  150\n"
     ]
    }
   ],
   "source": [
    "total = 0\n",
    "\n",
    "for num in some_numbers:\n",
    "    total = total + num\n",
    "\n",
    "print('The total of all numbers: ', total)"
   ]
  },
  {
   "cell_type": "code",
   "execution_count": 12,
   "metadata": {},
   "outputs": [
    {
     "name": "stdout",
     "output_type": "stream",
     "text": [
      "The total of all numbers (initial value set to 100):  250\n"
     ]
    }
   ],
   "source": [
    "total = 100\n",
    "\n",
    "for num in some_numbers:\n",
    "    total = total + num\n",
    "\n",
    "print('The total of all numbers (initial value set to 100): ', total)"
   ]
  },
  {
   "cell_type": "code",
   "execution_count": 13,
   "metadata": {},
   "outputs": [
    {
     "name": "stdout",
     "output_type": "stream",
     "text": [
      "The total length of the array is:  5\n"
     ]
    }
   ],
   "source": [
    "count = 0\n",
    "\n",
    "for num in some_numbers:\n",
    "    count = count + 1\n",
    "    \n",
    "print('The total length of the array is: ', count)    "
   ]
  },
  {
   "cell_type": "code",
   "execution_count": 15,
   "metadata": {},
   "outputs": [
    {
     "data": {
      "text/plain": [
       "range(0, 5)"
      ]
     },
     "execution_count": 15,
     "metadata": {},
     "output_type": "execute_result"
    }
   ],
   "source": [
    "range(5)"
   ]
  },
  {
   "cell_type": "code",
   "execution_count": 16,
   "metadata": {},
   "outputs": [
    {
     "name": "stdout",
     "output_type": "stream",
     "text": [
      "0\n",
      "1\n",
      "2\n",
      "3\n",
      "4\n"
     ]
    }
   ],
   "source": [
    "for i in range(5):\n",
    "    print(i)"
   ]
  },
  {
   "cell_type": "code",
   "execution_count": 24,
   "metadata": {},
   "outputs": [
    {
     "name": "stdout",
     "output_type": "stream",
     "text": [
      "0\n",
      "1\n",
      "2\n",
      "3\n",
      "4\n",
      "5\n",
      "6\n",
      "7\n",
      "8\n",
      "9\n"
     ]
    }
   ],
   "source": [
    "for i in range(10):\n",
    "    print(i)"
   ]
  },
  {
   "cell_type": "code",
   "execution_count": 17,
   "metadata": {},
   "outputs": [],
   "source": [
    "math_scores = {\n",
    "    \"Ram\": 97, \n",
    "    \"Kumar\": 35,\n",
    "    \"Kishan\": 67,\n",
    "    \"Natasha\": 73\n",
    "}"
   ]
  },
  {
   "cell_type": "code",
   "execution_count": 21,
   "metadata": {},
   "outputs": [
    {
     "name": "stdout",
     "output_type": "stream",
     "text": [
      "Ram\n",
      "Kumar\n",
      "Kishan\n",
      "Natasha\n",
      "This retains the value of the last item in the list Natasha\n"
     ]
    }
   ],
   "source": [
    "for item in math_scores:\n",
    "    print(item)\n",
    "    \n",
    "print('This retains the value of the last item in the list', item)    "
   ]
  },
  {
   "cell_type": "code",
   "execution_count": 22,
   "metadata": {},
   "outputs": [
    {
     "name": "stdout",
     "output_type": "stream",
     "text": [
      "Ram\n",
      "Kumar\n",
      "Kishan\n",
      "Natasha\n",
      "This retains the value of the last item in the list Natasha\n"
     ]
    }
   ],
   "source": [
    "for key in math_scores.keys():\n",
    "    print(key)\n",
    "    \n",
    "print('This retains the value of the last item in the list', key)        "
   ]
  },
  {
   "cell_type": "code",
   "execution_count": 25,
   "metadata": {},
   "outputs": [
    {
     "name": "stdout",
     "output_type": "stream",
     "text": [
      "97\n",
      "35\n",
      "67\n",
      "73\n"
     ]
    }
   ],
   "source": [
    "for val in math_scores.values():\n",
    "    print(val)"
   ]
  },
  {
   "cell_type": "code",
   "execution_count": 29,
   "metadata": {},
   "outputs": [
    {
     "name": "stdout",
     "output_type": "stream",
     "text": [
      "Key:  Ram 97\n",
      "Key:  Kumar 35\n",
      "Key:  Kishan 67\n",
      "Key:  Natasha 73\n"
     ]
    }
   ],
   "source": [
    "for key in math_scores:\n",
    "    print('Key: ', key, math_scores[key])"
   ]
  },
  {
   "cell_type": "code",
   "execution_count": 30,
   "metadata": {},
   "outputs": [
    {
     "name": "stdout",
     "output_type": "stream",
     "text": [
      "('Ram', 97)\n",
      "('Kumar', 35)\n",
      "('Kishan', 67)\n",
      "('Natasha', 73)\n"
     ]
    }
   ],
   "source": [
    "for item in math_scores.items():\n",
    "    print(item)"
   ]
  },
  {
   "cell_type": "code",
   "execution_count": 31,
   "metadata": {},
   "outputs": [
    {
     "name": "stdout",
     "output_type": "stream",
     "text": [
      "Ram 97\n",
      "Kumar 35\n",
      "Kishan 67\n",
      "Natasha 73\n"
     ]
    }
   ],
   "source": [
    "for key, value in math_scores.items():\n",
    "    print(key, value)"
   ]
  },
  {
   "cell_type": "markdown",
   "metadata": {},
   "source": [
    "#### Breaking out of a loop"
   ]
  },
  {
   "cell_type": "code",
   "execution_count": 33,
   "metadata": {},
   "outputs": [
    {
     "name": "stdout",
     "output_type": "stream",
     "text": [
      "0\n"
     ]
    }
   ],
   "source": [
    "for i in range(5):\n",
    "    print(i)\n",
    "    break"
   ]
  },
  {
   "cell_type": "code",
   "execution_count": 35,
   "metadata": {},
   "outputs": [
    {
     "name": "stdout",
     "output_type": "stream",
     "text": [
      "0\n",
      "1\n",
      "2\n",
      "3\n"
     ]
    }
   ],
   "source": [
    "for i in range(5):\n",
    "    print(i)\n",
    "    if i == 3:\n",
    "        break"
   ]
  },
  {
   "cell_type": "code",
   "execution_count": 36,
   "metadata": {},
   "outputs": [
    {
     "name": "stdout",
     "output_type": "stream",
     "text": [
      "0\n",
      "1\n",
      "2\n",
      "3\n",
      "4\n",
      "5\n",
      "6\n"
     ]
    }
   ],
   "source": [
    "for i in range(10):\n",
    "    print(i)\n",
    "    if i > 5:\n",
    "        break"
   ]
  },
  {
   "cell_type": "code",
   "execution_count": 37,
   "metadata": {},
   "outputs": [
    {
     "name": "stdout",
     "output_type": "stream",
     "text": [
      "0\n",
      "1\n",
      "2\n",
      "3\n",
      "4\n",
      "5\n"
     ]
    }
   ],
   "source": [
    "for i in range(10):\n",
    "    if i > 5:\n",
    "        break\n",
    "    print(i)"
   ]
  },
  {
   "cell_type": "code",
   "execution_count": 39,
   "metadata": {},
   "outputs": [
    {
     "name": "stdout",
     "output_type": "stream",
     "text": [
      "1\n",
      "2\n",
      "3\n",
      "4\n"
     ]
    }
   ],
   "source": [
    "for i in range(1, 10):\n",
    "    if i % 5 == 0:\n",
    "        break\n",
    "    print(i)"
   ]
  },
  {
   "cell_type": "code",
   "execution_count": 41,
   "metadata": {},
   "outputs": [
    {
     "name": "stdout",
     "output_type": "stream",
     "text": [
      "Google\n",
      "Apple\n",
      "Facebook\n",
      "Uber\n",
      "This company is not listed yet:  Uber\n"
     ]
    }
   ],
   "source": [
    "for company in tech_companies:\n",
    "    print(company)\n",
    "    if company == 'Uber':\n",
    "        print('This company is not listed yet: ', company)\n",
    "        break"
   ]
  },
  {
   "cell_type": "markdown",
   "metadata": {},
   "source": [
    "#### Continue statements"
   ]
  },
  {
   "cell_type": "code",
   "execution_count": 43,
   "metadata": {},
   "outputs": [
    {
     "name": "stdout",
     "output_type": "stream",
     "text": [
      "Google\n",
      "Apple\n",
      "Facebook\n",
      "This company is not listed yet\n",
      "Intel\n"
     ]
    }
   ],
   "source": [
    "for company in tech_companies:\n",
    "    if company == 'Uber':\n",
    "        print('This company is not listed yet')\n",
    "        continue\n",
    "    print(company)    "
   ]
  },
  {
   "cell_type": "code",
   "execution_count": 50,
   "metadata": {},
   "outputs": [
    {
     "name": "stdout",
     "output_type": "stream",
     "text": [
      "\n",
      "Before continue statement:  1\n",
      "AFTER continue statement:  1\n",
      "\n",
      "Before continue statement:  2\n",
      "\n",
      "Before continue statement:  3\n",
      "AFTER continue statement:  3\n",
      "\n",
      "Before continue statement:  4\n",
      "\n",
      "Before continue statement:  5\n",
      "AFTER continue statement:  5\n",
      "\n",
      "Before continue statement:  6\n",
      "\n",
      "Before continue statement:  7\n",
      "AFTER continue statement:  7\n"
     ]
    }
   ],
   "source": [
    "for i in range(1, 8):\n",
    "    print()\n",
    "    print('Before continue statement: ', i)\n",
    "    if i % 2 == 0:\n",
    "        continue\n",
    "    print('AFTER continue statement: ', i) "
   ]
  },
  {
   "cell_type": "code",
   "execution_count": 53,
   "metadata": {},
   "outputs": [
    {
     "name": "stdout",
     "output_type": "stream",
     "text": [
      "Multiple of 5:  5\n",
      "Yes!\n",
      "Multiple of 5:  10\n",
      "Yes!\n",
      "Multiple of 5:  15\n",
      "Yes!\n",
      "Multiple of 5:  20\n",
      "Yes!\n",
      "Multiple of 5:  25\n",
      "Yes!\n",
      "Multiple of 5:  30\n",
      "Yes!\n"
     ]
    }
   ],
   "source": [
    "for i in range(1, 31):\n",
    "    if i % 5 == 0:\n",
    "        print('Multiple of 5: ', i)\n",
    "    else:\n",
    "        continue\n",
    "    print('Yes!')"
   ]
  },
  {
   "cell_type": "markdown",
   "metadata": {},
   "source": [
    "#### Nested loops"
   ]
  },
  {
   "cell_type": "code",
   "execution_count": 54,
   "metadata": {},
   "outputs": [
    {
     "name": "stdout",
     "output_type": "stream",
     "text": [
      "1 a\n",
      "1 b\n",
      "1 c\n",
      "1 d\n",
      "2 a\n",
      "2 b\n",
      "2 c\n",
      "2 d\n",
      "3 a\n",
      "3 b\n",
      "3 c\n",
      "3 d\n",
      "4 a\n",
      "4 b\n",
      "4 c\n",
      "4 d\n"
     ]
    }
   ],
   "source": [
    "for i in range(1, 5):\n",
    "\n",
    "    for j in ['a', 'b', 'c', 'd']:\n",
    "        \n",
    "        print(i, j)"
   ]
  },
  {
   "cell_type": "code",
   "execution_count": null,
   "metadata": {},
   "outputs": [],
   "source": []
  },
  {
   "cell_type": "code",
   "execution_count": null,
   "metadata": {},
   "outputs": [],
   "source": []
  },
  {
   "cell_type": "code",
   "execution_count": null,
   "metadata": {},
   "outputs": [],
   "source": []
  },
  {
   "cell_type": "code",
   "execution_count": null,
   "metadata": {},
   "outputs": [],
   "source": []
  },
  {
   "cell_type": "code",
   "execution_count": null,
   "metadata": {},
   "outputs": [],
   "source": []
  },
  {
   "cell_type": "code",
   "execution_count": null,
   "metadata": {},
   "outputs": [],
   "source": []
  }
 ],
 "metadata": {
  "kernelspec": {
   "display_name": "Python 3",
   "language": "python",
   "name": "python3"
  },
  "language_info": {
   "codemirror_mode": {
    "name": "ipython",
    "version": 3
   },
   "file_extension": ".py",
   "mimetype": "text/x-python",
   "name": "python",
   "nbconvert_exporter": "python",
   "pygments_lexer": "ipython3",
   "version": "3.8.8"
  }
 },
 "nbformat": 4,
 "nbformat_minor": 2
}
