{
 "cells": [
  {
   "cell_type": "code",
   "execution_count": 8,
   "metadata": {},
   "outputs": [
    {
     "name": "stdout",
     "output_type": "stream",
     "text": [
      "Enter the first number: 4\n",
      "Enter the second number: 5\n",
      "Sum:  9.0\n"
     ]
    }
   ],
   "source": [
    "# Add two numbers which you take as an input from the user\n",
    "\n",
    "a = float(input(\"Enter the first number: \"))\n",
    "b = float(input(\"Enter the second number: \"))\n",
    "\n",
    "s = a + b\n",
    "\n",
    "print('Sum: ', s)"
   ]
  },
  {
   "cell_type": "code",
   "execution_count": 9,
   "metadata": {},
   "outputs": [
    {
     "name": "stdout",
     "output_type": "stream",
     "text": [
      "Number of times: 4\n",
      "Dhwani\n",
      "Dhwani\n",
      "Dhwani\n",
      "Dhwani\n"
     ]
    }
   ],
   "source": [
    "# Take an integer as an input from the user and print your name that many times\n",
    "\n",
    "num = int(input('Number of times: '))\n",
    "\n",
    "for i in range(num):\n",
    "    print('Dhwani')"
   ]
  },
  {
   "cell_type": "code",
   "execution_count": 13,
   "metadata": {},
   "outputs": [
    {
     "name": "stdout",
     "output_type": "stream",
     "text": [
      "Number of times: 5\n",
      "Dhwani\n",
      "Dhwani\n",
      "Dhwani\n",
      "Dhwani\n",
      "Dhwani\n"
     ]
    }
   ],
   "source": [
    "# The same thing as before but this time using a while loop instead of a for-loop\n",
    "\n",
    "num = int(input('Number of times: '))\n",
    "\n",
    "count = 0\n",
    "while count < num:\n",
    "    print('Dhwani')\n",
    "    \n",
    "    count += 1"
   ]
  },
  {
   "cell_type": "code",
   "execution_count": 14,
   "metadata": {},
   "outputs": [
    {
     "name": "stdout",
     "output_type": "stream",
     "text": [
      "Number of times: 6\n",
      "Dhwani\n",
      "Dhwani\n",
      "Dhwani\n",
      "Dhwani\n",
      "Dhwani\n",
      "Dhwani\n"
     ]
    }
   ],
   "source": [
    "# The same thing as before but this time using a while loop instead of a for-loop, change the initialization of count\n",
    "\n",
    "num = int(input('Number of times: '))\n",
    "\n",
    "count = 1\n",
    "while count <= num:\n",
    "    print('Dhwani')\n",
    "    \n",
    "    count += 1"
   ]
  },
  {
   "cell_type": "code",
   "execution_count": 17,
   "metadata": {},
   "outputs": [
    {
     "name": "stdout",
     "output_type": "stream",
     "text": [
      "Times table: 7\n",
      "1 x 7 = 7\n",
      "2 x 7 = 14\n",
      "3 x 7 = 21\n",
      "4 x 7 = 28\n",
      "5 x 7 = 35\n",
      "6 x 7 = 42\n",
      "7 x 7 = 49\n",
      "8 x 7 = 56\n",
      "9 x 7 = 63\n",
      "10 x 7 = 70\n"
     ]
    }
   ],
   "source": [
    "# Display the multiplication table of the number input by the user\n",
    "\n",
    "num = int(input('Times table: '))\n",
    "\n",
    "for i in range(1, 11):\n",
    "    print(i, 'x', num, '=', i * num)"
   ]
  },
  {
   "cell_type": "code",
   "execution_count": 22,
   "metadata": {},
   "outputs": [
    {
     "name": "stdout",
     "output_type": "stream",
     "text": [
      "First number: 66\n",
      "Second number: 633\n",
      "Operator: -\n",
      "Subtract:  -567.0\n"
     ]
    }
   ],
   "source": [
    "# Take as input 2 numbers, then take in an operator and output the result\n",
    "\n",
    "a = float(input('First number: '))\n",
    "b = float(input('Second number: '))\n",
    "\n",
    "operator = input('Operator: ')\n",
    "\n",
    "if operator == '+':\n",
    "    print('Add: ', a + b)\n",
    "elif operator == '-':\n",
    "    print('Subtract: ', a - b)\n",
    "elif operator == '*':\n",
    "    print('Multiply: ', a * b)\n",
    "elif operator == '/':\n",
    "    print('Divide: ', a / b)\n",
    "else:\n",
    "    print('Operator not supported')"
   ]
  },
  {
   "cell_type": "code",
   "execution_count": 25,
   "metadata": {},
   "outputs": [
    {
     "name": "stdout",
     "output_type": "stream",
     "text": [
      "Enter a string: Malayalam\n",
      "Original:  Malayalam\n",
      "Reversed:  malayalaM\n"
     ]
    }
   ],
   "source": [
    "# Reverse a string without using ::\n",
    "\n",
    "original = input('Enter a string: ')\n",
    "\n",
    "index = len(original) - 1\n",
    "reversed_string = ''\n",
    "\n",
    "while index >= 0:\n",
    "    reversed_string += original[index]\n",
    "    \n",
    "    index = index - 1\n",
    "    \n",
    "print('Original: ', original)\n",
    "print('Reversed: ', reversed_string)"
   ]
  },
  {
   "cell_type": "code",
   "execution_count": 27,
   "metadata": {},
   "outputs": [
    {
     "name": "stdout",
     "output_type": "stream",
     "text": [
      "Enter a string: boo\n",
      "This string is NOT a palindrome:  boo\n"
     ]
    }
   ],
   "source": [
    "# Find whether a string is a palindrome or not\n",
    "\n",
    "original = input('Enter a string: ')\n",
    "\n",
    "index = len(original) - 1\n",
    "reversed_string = ''\n",
    "\n",
    "while index >= 0:\n",
    "    reversed_string += original[index]\n",
    "    \n",
    "    index = index - 1\n",
    "    \n",
    "if original == reversed_string:\n",
    "    print('This string is a palindrome: ', original)\n",
    "else:\n",
    "    print('This string is NOT a palindrome: ', original)"
   ]
  },
  {
   "cell_type": "code",
   "execution_count": 1,
   "metadata": {},
   "outputs": [],
   "source": [
    "a_list = [2, 5, 7, 8, 2, 6, 9, 0, 3]"
   ]
  },
  {
   "cell_type": "code",
   "execution_count": 2,
   "metadata": {},
   "outputs": [
    {
     "data": {
      "text/plain": [
       "9"
      ]
     },
     "execution_count": 2,
     "metadata": {},
     "output_type": "execute_result"
    }
   ],
   "source": [
    "# Find the length of a list without using the len() operator\n",
    "\n",
    "count = 0\n",
    "for element in a_list:\n",
    "    count = count + 1\n",
    "\n",
    "count   "
   ]
  },
  {
   "cell_type": "code",
   "execution_count": 3,
   "metadata": {},
   "outputs": [
    {
     "data": {
      "text/plain": [
       "9"
      ]
     },
     "execution_count": 3,
     "metadata": {},
     "output_type": "execute_result"
    }
   ],
   "source": [
    "# Find the maximum element in a list\n",
    "\n",
    "maximum = a_list[0]\n",
    "\n",
    "for element in a_list:\n",
    "    if element > maximum:\n",
    "        maximum = element\n",
    "        \n",
    "maximum        "
   ]
  },
  {
   "cell_type": "code",
   "execution_count": 4,
   "metadata": {},
   "outputs": [
    {
     "data": {
      "text/plain": [
       "0"
      ]
     },
     "execution_count": 4,
     "metadata": {},
     "output_type": "execute_result"
    }
   ],
   "source": [
    "# Find the maximum element in a list\n",
    "\n",
    "minimum = a_list[0]\n",
    "\n",
    "for element in a_list:\n",
    "    if element < minimum:\n",
    "        minimum = element\n",
    "        \n",
    "minimum"
   ]
  },
  {
   "cell_type": "code",
   "execution_count": 6,
   "metadata": {},
   "outputs": [
    {
     "name": "stdout",
     "output_type": "stream",
     "text": [
      "Average:  4.666666666666667\n"
     ]
    }
   ],
   "source": [
    "# Find the average of all the numbers in the list without using sum() or len()\n",
    "\n",
    "count = 0\n",
    "total = 0\n",
    "for element in a_list:\n",
    "    count += 1\n",
    "    total += element\n",
    "\n",
    "print('Average: ', total/count)"
   ]
  },
  {
   "cell_type": "code",
   "execution_count": 7,
   "metadata": {},
   "outputs": [
    {
     "data": {
      "text/plain": [
       "4.666666666666667"
      ]
     },
     "execution_count": 7,
     "metadata": {},
     "output_type": "execute_result"
    }
   ],
   "source": [
    "sum(a_list) / len(a_list)"
   ]
  },
  {
   "cell_type": "code",
   "execution_count": 34,
   "metadata": {},
   "outputs": [
    {
     "name": "stdout",
     "output_type": "stream",
     "text": [
      "Enter an integer: 35\n",
      "The number 35 is divisible by 5\n"
     ]
    }
   ],
   "source": [
    "# For a number input find whether it is divisible by 5, divisible by 7 or both. Test with 10, 21 and then 35\n",
    "\n",
    "num = int(input('Enter an integer: '))\n",
    "\n",
    "if num % 5 == 0:\n",
    "    print('The number %s is divisible by 5' % num)\n",
    "elif num % 7 == 0:\n",
    "    print('The number %s is divisible by 7' % num)\n",
    "elif num % 5 == 0 and num % 7 == 0:\n",
    "    print('The number %s is divisible by both 5 and 7' % num)"
   ]
  },
  {
   "cell_type": "code",
   "execution_count": 36,
   "metadata": {},
   "outputs": [
    {
     "name": "stdout",
     "output_type": "stream",
     "text": [
      "Enter an integer: 21\n",
      "The number 21 is divisible by 7\n"
     ]
    }
   ],
   "source": [
    "# Need to check for divisible by 5 and 7 first and then individually\n",
    "\n",
    "num = int(input('Enter an integer: '))\n",
    "\n",
    "if num % 5 == 0 and num % 7 == 0:\n",
    "    print('The number %s is divisible by both 5 and 7' % num)\n",
    "elif num % 7 == 0:\n",
    "    print('The number %s is divisible by 7' % num)\n",
    "elif num % 5 == 0:\n",
    "    print('The number %s is divisible by 5' % num)"
   ]
  },
  {
   "cell_type": "code",
   "execution_count": 50,
   "metadata": {},
   "outputs": [
    {
     "name": "stdout",
     "output_type": "stream",
     "text": [
      "Enter a sentence: eee\n",
      "Total number of the letter \"e\":  3\n"
     ]
    }
   ],
   "source": [
    "# Find the number of times the letter \"e\" occurs in the input sentence \n",
    "\n",
    "sentence = input('Enter a sentence: ')\n",
    "\n",
    "count_e = 0\n",
    "\n",
    "for character in sentence:\n",
    "    if character == 'e':\n",
    "        count_e += 1\n",
    "\n",
    "print('Total number of the letter \"e\": ', count_e)"
   ]
  },
  {
   "cell_type": "code",
   "execution_count": 54,
   "metadata": {},
   "outputs": [],
   "source": [
    "math_scores = {\n",
    "    'Judy': 94,\n",
    "    'Niti': 88,\n",
    "    'Athira': 97,\n",
    "    'Anu': 93,\n",
    "    'Ram': 55\n",
    "}"
   ]
  },
  {
   "cell_type": "code",
   "execution_count": 55,
   "metadata": {},
   "outputs": [
    {
     "name": "stdout",
     "output_type": "stream",
     "text": [
      "Judy\n",
      "Athira\n",
      "Anu\n"
     ]
    }
   ],
   "source": [
    "# In a dictionary print the names of all students who scored over 90 in math\n",
    "\n",
    "for name, score in math_scores.items():\n",
    "    if score > 90:\n",
    "        print(name)"
   ]
  },
  {
   "cell_type": "code",
   "execution_count": 57,
   "metadata": {},
   "outputs": [
    {
     "data": {
      "text/plain": [
       "{'Anu': 93, 'Athira': 97, 'Judy': 94, 'Niti': 88, 'Ram': 65}"
      ]
     },
     "execution_count": 57,
     "metadata": {},
     "output_type": "execute_result"
    }
   ],
   "source": [
    "# If any student has scored between 50 and 60 increment their marks by 10\n",
    "\n",
    "for name, score in math_scores.items():\n",
    "    if score > 50 and score < 60:\n",
    "        math_scores[name] += 10\n",
    "        \n",
    "math_scores        "
   ]
  },
  {
   "cell_type": "code",
   "execution_count": 59,
   "metadata": {},
   "outputs": [
    {
     "name": "stdout",
     "output_type": "stream",
     "text": [
      "Enter a sentence: how are you?\n",
      "Number of vowels:  5\n"
     ]
    }
   ],
   "source": [
    "# Count the number of vowels in a sentence\n",
    "\n",
    "sentence = input('Enter a sentence: ')\n",
    "\n",
    "vowels = ['a', 'e', 'i', 'o', 'u']\n",
    "\n",
    "count_vowels = 0\n",
    "\n",
    "for ch in sentence:\n",
    "    if ch in vowels:\n",
    "        count_vowels += 1\n",
    "        \n",
    "print('Number of vowels: ', count_vowels)        "
   ]
  },
  {
   "cell_type": "code",
   "execution_count": 61,
   "metadata": {},
   "outputs": [
    {
     "name": "stdout",
     "output_type": "stream",
     "text": [
      "Enter users: amar, vitthal, viren\n"
     ]
    },
    {
     "data": {
      "text/plain": [
       "{'amar': 0, 'viren': 0, 'vitthal': 0}"
      ]
     },
     "execution_count": 61,
     "metadata": {},
     "output_type": "execute_result"
    }
   ],
   "source": [
    "# Accept a comma separated list of names from the user on the console input and create a \n",
    "# dictionary and initialize all their scores to 0\n",
    "\n",
    "users = input(\"Enter users: \")\n",
    "\n",
    "user_list = users.split(',')\n",
    "\n",
    "score_dict = {}\n",
    "\n",
    "for user in user_list:\n",
    "    score_dict[user.strip()] = 0\n",
    "\n",
    "score_dict    "
   ]
  },
  {
   "cell_type": "code",
   "execution_count": 63,
   "metadata": {},
   "outputs": [
    {
     "name": "stdout",
     "output_type": "stream",
     "text": [
      "Enter user: amar\n",
      "Enter user: vitthal\n",
      "Enter user: kishan\n",
      "Enter user: oba\n",
      "Enter user: exit\n"
     ]
    },
    {
     "data": {
      "text/plain": [
       "['amar', 'vitthal', 'kishan', 'oba']"
      ]
     },
     "execution_count": 63,
     "metadata": {},
     "output_type": "execute_result"
    }
   ],
   "source": [
    "# Accept names from the user using console output till the user types 'exit'. Store all the users in a list\n",
    "\n",
    "user_list = []\n",
    "\n",
    "while True:\n",
    "    \n",
    "    user = input('Enter user: ')\n",
    "    \n",
    "    if user == 'exit':\n",
    "        break\n",
    "    \n",
    "    user_list.append(user)    \n",
    "\n",
    "user_list    "
   ]
  },
  {
   "cell_type": "code",
   "execution_count": null,
   "metadata": {},
   "outputs": [],
   "source": []
  },
  {
   "cell_type": "code",
   "execution_count": null,
   "metadata": {},
   "outputs": [],
   "source": []
  },
  {
   "cell_type": "code",
   "execution_count": null,
   "metadata": {},
   "outputs": [],
   "source": []
  },
  {
   "cell_type": "code",
   "execution_count": null,
   "metadata": {},
   "outputs": [],
   "source": []
  },
  {
   "cell_type": "code",
   "execution_count": null,
   "metadata": {},
   "outputs": [],
   "source": []
  }
 ],
 "metadata": {
  "kernelspec": {
   "display_name": "Python 3",
   "language": "python",
   "name": "python3"
  },
  "language_info": {
   "codemirror_mode": {
    "name": "ipython",
    "version": 3
   },
   "file_extension": ".py",
   "mimetype": "text/x-python",
   "name": "python",
   "nbconvert_exporter": "python",
   "pygments_lexer": "ipython3",
   "version": "3.8.8"
  }
 },
 "nbformat": 4,
 "nbformat_minor": 2
}
