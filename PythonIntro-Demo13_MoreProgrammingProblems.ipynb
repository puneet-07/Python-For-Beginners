{
 "cells": [
  {
   "cell_type": "code",
   "execution_count": 2,
   "metadata": {},
   "outputs": [
    {
     "name": "stdout",
     "output_type": "stream",
     "text": [
      "Enter a number: 5\n",
      "Factorial:  120\n"
     ]
    }
   ],
   "source": [
    "# Find the factorial of a number\n",
    "\n",
    "num = int(input('Enter a number: '))\n",
    "\n",
    "factorial = 1\n",
    "\n",
    "while num > 0:\n",
    "    \n",
    "    factorial *= num\n",
    "    \n",
    "    num -= 1\n",
    "    \n",
    "print('Factorial: ', factorial)    "
   ]
  },
  {
   "cell_type": "code",
   "execution_count": 3,
   "metadata": {},
   "outputs": [
    {
     "name": "stdout",
     "output_type": "stream",
     "text": [
      "Enter a number: 20\n",
      "1\n",
      "2\n",
      "4\n",
      "5\n",
      "10\n",
      "20\n"
     ]
    }
   ],
   "source": [
    "# Find all the factors of a number\n",
    "\n",
    "num = int(input('Enter a number: '))\n",
    "\n",
    "factor = 1\n",
    "\n",
    "while factor <= num:\n",
    "    \n",
    "    if num % factor == 0:\n",
    "        print(factor)\n",
    "    \n",
    "    factor += 1"
   ]
  },
  {
   "cell_type": "code",
   "execution_count": 4,
   "metadata": {},
   "outputs": [
    {
     "name": "stdout",
     "output_type": "stream",
     "text": [
      "Enter a number: 40\n",
      "1\n",
      "2\n",
      "4\n",
      "5\n",
      "8\n",
      "10\n",
      "20\n",
      "40\n"
     ]
    }
   ],
   "source": [
    "# Find all the factors of a number (optimized)\n",
    "\n",
    "num = int(input('Enter a number: '))\n",
    "\n",
    "factor = 1\n",
    "\n",
    "while factor <= num / 2:\n",
    "    \n",
    "    if num % factor == 0:\n",
    "        print(factor)\n",
    "    \n",
    "    factor += 1\n",
    "\n",
    "print(num)    "
   ]
  },
  {
   "cell_type": "code",
   "execution_count": 11,
   "metadata": {},
   "outputs": [
    {
     "name": "stdout",
     "output_type": "stream",
     "text": [
      "Enter the number: 21\n",
      "The number is not prime, it is divisible by 3\n"
     ]
    }
   ],
   "source": [
    "# Find whether an input number is prime\n",
    "\n",
    "num = int(input('Enter the number: '))\n",
    "\n",
    "factor = 1\n",
    "prime = True\n",
    "\n",
    "while factor <= num / 2:\n",
    "    factor += 1 \n",
    "    \n",
    "    if num % factor == 0:\n",
    "        print('The number is not prime, it is divisible by', factor)\n",
    "        prime = False\n",
    "        break\n",
    "\n",
    "if prime:     \n",
    "    print('The number is prime!')  "
   ]
  },
  {
   "cell_type": "code",
   "execution_count": 13,
   "metadata": {},
   "outputs": [
    {
     "name": "stdout",
     "output_type": "stream",
     "text": [
      "Enter the number: 12564\n",
      "The number in the 10s place:  4\n"
     ]
    }
   ],
   "source": [
    "# Extract the number in the 10s place from the input number\n",
    "\n",
    "num = int(input('Enter the number: '))\n",
    "\n",
    "digit = num % 10\n",
    "\n",
    "print('The number in the 10s place: ', digit)"
   ]
  },
  {
   "cell_type": "code",
   "execution_count": 16,
   "metadata": {},
   "outputs": [
    {
     "name": "stdout",
     "output_type": "stream",
     "text": [
      "Enter the number: 2355\n",
      "The value of num is now:  235\n",
      "The value of num is now:  23\n",
      "The value of num is now:  2\n",
      "The value of num is now:  0\n"
     ]
    },
    {
     "data": {
      "text/plain": [
       "[5, 5, 3, 2]"
      ]
     },
     "execution_count": 16,
     "metadata": {},
     "output_type": "execute_result"
    }
   ],
   "source": [
    "# Extract the individual digits in any number and store in a list\n",
    "\n",
    "num = int(input('Enter the number: '))\n",
    "\n",
    "digit_list = []\n",
    "\n",
    "while num > 0:\n",
    "    \n",
    "    digit = num % 10\n",
    "    \n",
    "    digit_list.append(digit)\n",
    "    \n",
    "    num = num // 10\n",
    "    \n",
    "    print('The value of num is now: ', num)\n",
    "\n",
    "digit_list    "
   ]
  },
  {
   "cell_type": "code",
   "execution_count": 19,
   "metadata": {},
   "outputs": [
    {
     "name": "stdout",
     "output_type": "stream",
     "text": [
      "Enter the number: 2345\n",
      "The value of reversed_num is now:  5\n",
      "The value of num is now:  234\n",
      "The value of reversed_num is now:  54\n",
      "The value of num is now:  23\n",
      "The value of reversed_num is now:  543\n",
      "The value of num is now:  2\n",
      "The value of reversed_num is now:  5432\n",
      "The value of num is now:  0\n",
      "\n",
      "Final reversed number:  5432\n"
     ]
    }
   ],
   "source": [
    "# Reverse the digits in a number\n",
    "\n",
    "num = int(input('Enter the number: '))\n",
    "\n",
    "reversed_num = 0\n",
    "\n",
    "while num > 0:\n",
    "    \n",
    "    digit = num % 10\n",
    "    \n",
    "    reversed_num = reversed_num * 10\n",
    "\n",
    "    reversed_num = reversed_num + digit\n",
    "      \n",
    "    num = num // 10\n",
    "    \n",
    "    print('The value of reversed_num is now: ', reversed_num)\n",
    "    print('The value of num is now: ', num)\n",
    "\n",
    "print('\\nFinal reversed number: ', reversed_num)"
   ]
  },
  {
   "cell_type": "code",
   "execution_count": 20,
   "metadata": {},
   "outputs": [
    {
     "data": {
      "text/plain": [
       "['Deb', 'Athira', 'Abhay', 'Viren']"
      ]
     },
     "execution_count": 20,
     "metadata": {},
     "output_type": "execute_result"
    }
   ],
   "source": [
    "# Write a program which operates on a list which may contain duplicates. It outputs a list with no duplicates\n",
    "\n",
    "dupe_list = ['Deb', 'Athira', 'Abhay', 'Athira', 'Viren', 'Deb', 'Abhay']\n",
    "\n",
    "unique_list = []\n",
    "\n",
    "for name in dupe_list:\n",
    "    \n",
    "    if name in unique_list:\n",
    "        continue\n",
    "        \n",
    "    unique_list.append(name)\n",
    "    \n",
    "unique_list    "
   ]
  },
  {
   "cell_type": "code",
   "execution_count": 21,
   "metadata": {},
   "outputs": [
    {
     "data": {
      "text/plain": [
       "[0, 1, 2, 3, 5, 7, 8, 8, 11, 15, 22]"
      ]
     },
     "execution_count": 21,
     "metadata": {},
     "output_type": "execute_result"
    }
   ],
   "source": [
    "# Write a program which takes a list of numbers and creates a new list with the list in sorted order\n",
    "\n",
    "unsorted_list = [7, 8, 2, 0, 3, 5, 8, 1, 22, 15, 11]\n",
    "\n",
    "sorted_list = []\n",
    "\n",
    "while len(unsorted_list) > 0:\n",
    "    \n",
    "    min_value = unsorted_list[0]\n",
    "    \n",
    "    for num in unsorted_list:\n",
    "        if num < min_value:\n",
    "            min_value = num\n",
    "            \n",
    "    unsorted_list.remove(min_value)        \n",
    "\n",
    "    sorted_list.append(min_value)\n",
    "    \n",
    "sorted_list"
   ]
  },
  {
   "cell_type": "code",
   "execution_count": 33,
   "metadata": {},
   "outputs": [
    {
     "data": {
      "text/plain": [
       "['Google', 'Tableau', 'Microsoft', 'Apple', 'Intel']"
      ]
     },
     "execution_count": 33,
     "metadata": {},
     "output_type": "execute_result"
    }
   ],
   "source": [
    "# Write a program to swap two elements in a list\n",
    "\n",
    "\n",
    "tech_companies = ['Google', 'Apple', 'Microsoft', 'Tableau', 'Intel']\n",
    "\n",
    "i = 1\n",
    "j = 3\n",
    "\n",
    "temp = tech_companies[i]\n",
    "tech_companies[i] = tech_companies[j]\n",
    "tech_companies[j] = temp\n",
    "\n",
    "tech_companies"
   ]
  },
  {
   "cell_type": "code",
   "execution_count": 32,
   "metadata": {},
   "outputs": [
    {
     "name": "stdout",
     "output_type": "stream",
     "text": [
      "Start:  [7, 8, 2, 0, 3, 5, 8, 1, 22, 15, 11]\n",
      "[0, 8, 7, 2, 3, 5, 8, 1, 22, 15, 11]\n",
      "[0, 1, 8, 7, 3, 5, 8, 2, 22, 15, 11]\n",
      "[0, 1, 2, 8, 7, 5, 8, 3, 22, 15, 11]\n",
      "[0, 1, 2, 3, 8, 7, 8, 5, 22, 15, 11]\n",
      "[0, 1, 2, 3, 5, 8, 8, 7, 22, 15, 11]\n",
      "[0, 1, 2, 3, 5, 7, 8, 8, 22, 15, 11]\n",
      "[0, 1, 2, 3, 5, 7, 8, 8, 22, 15, 11]\n",
      "[0, 1, 2, 3, 5, 7, 8, 8, 22, 15, 11]\n",
      "[0, 1, 2, 3, 5, 7, 8, 8, 11, 22, 15]\n",
      "[0, 1, 2, 3, 5, 7, 8, 8, 11, 15, 22]\n",
      "[0, 1, 2, 3, 5, 7, 8, 8, 11, 15, 22]\n"
     ]
    }
   ],
   "source": [
    "# Write a program to sort a list in place\n",
    "\n",
    "num_list = [7, 8, 2, 0, 3, 5, 8, 1, 22, 15, 11]\n",
    "\n",
    "unsorted_index = 0\n",
    "\n",
    "print('Start: ', num_list)\n",
    "while unsorted_index < len(num_list):\n",
    "    \n",
    "    for i in range(unsorted_index, len(num_list)):\n",
    "\n",
    "        if num_list[i] < num_list[unsorted_index]:\n",
    "\n",
    "            # Swap the numbers in the 2 positions\n",
    "            temp = num_list[unsorted_index]\n",
    "            num_list[unsorted_index] = num_list[i]\n",
    "            num_list[i] = temp\n",
    "    \n",
    "    print(num_list)    \n",
    "    unsorted_index += 1"
   ]
  },
  {
   "cell_type": "code",
   "execution_count": null,
   "metadata": {},
   "outputs": [],
   "source": []
  }
 ],
 "metadata": {
  "kernelspec": {
   "display_name": "Python 3",
   "language": "python",
   "name": "python3"
  },
  "language_info": {
   "codemirror_mode": {
    "name": "ipython",
    "version": 3
   },
   "file_extension": ".py",
   "mimetype": "text/x-python",
   "name": "python",
   "nbconvert_exporter": "python",
   "pygments_lexer": "ipython3",
   "version": "3.8.8"
  }
 },
 "nbformat": 4,
 "nbformat_minor": 2
}
